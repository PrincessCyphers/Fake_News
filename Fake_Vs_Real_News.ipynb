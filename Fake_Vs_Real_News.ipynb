{
 "cells": [
  {
   "cell_type": "code",
   "execution_count": 2,
   "id": "1232326f",
   "metadata": {},
   "outputs": [],
   "source": [
    "import pandas as pd # data processing \n",
    "import matplotlib.pyplot as plt # plotting \n",
    "import numpy as np # linear algebra \n",
    "import seaborn as sns \n",
    "\n",
    "# tool for reading data csv file (faster than pandas and reads from .zip)\n",
    "import datatable as dt \n",
    "\n",
    "# import kaggle \n",
    "\n",
    "# colored output text\n",
    "from termcolor import colored\n",
    "\n",
    "import re\n",
    "import string \n",
    "\n",
    "from wordcloud import WordCloud, STOPWORDS\n",
    "\n",
    "# Silent Warnings \n",
    "import warnings\n",
    "warnings.filterwarnings('ignore')\n",
    "warnings.simplefilter('ignore')\n",
    "\n"
   ]
  },
  {
   "cell_type": "markdown",
   "id": "645e29e7",
   "metadata": {},
   "source": [
    "### Dataset in use \n",
    "### https://www.kaggle.com/datasets/clmentbisaillon/fake-and-real-news-dataset?select=True.csv"
   ]
  },
  {
   "cell_type": "code",
   "execution_count": 4,
   "id": "a1012e15",
   "metadata": {},
   "outputs": [],
   "source": [
    "fake_df1 = pd.read_csv(\"./archive(3)/Fake.csv\")\n",
    "real_df1 = pd.read_csv(\"./archive(3)/True.csv\")"
   ]
  },
  {
   "cell_type": "markdown",
   "id": "de5f9585",
   "metadata": {},
   "source": [
    "### Quick exploratory analysis of Fake News DF"
   ]
  },
  {
   "cell_type": "code",
   "execution_count": 5,
   "id": "e5a82048",
   "metadata": {},
   "outputs": [
    {
     "data": {
      "text/html": [
       "<div>\n",
       "<style scoped>\n",
       "    .dataframe tbody tr th:only-of-type {\n",
       "        vertical-align: middle;\n",
       "    }\n",
       "\n",
       "    .dataframe tbody tr th {\n",
       "        vertical-align: top;\n",
       "    }\n",
       "\n",
       "    .dataframe thead th {\n",
       "        text-align: right;\n",
       "    }\n",
       "</style>\n",
       "<table border=\"1\" class=\"dataframe\">\n",
       "  <thead>\n",
       "    <tr style=\"text-align: right;\">\n",
       "      <th></th>\n",
       "      <th>title</th>\n",
       "      <th>text</th>\n",
       "      <th>subject</th>\n",
       "      <th>date</th>\n",
       "    </tr>\n",
       "  </thead>\n",
       "  <tbody>\n",
       "    <tr>\n",
       "      <th>0</th>\n",
       "      <td>Donald Trump Sends Out Embarrassing New Year’...</td>\n",
       "      <td>Donald Trump just couldn t wish all Americans ...</td>\n",
       "      <td>News</td>\n",
       "      <td>December 31, 2017</td>\n",
       "    </tr>\n",
       "    <tr>\n",
       "      <th>1</th>\n",
       "      <td>Drunk Bragging Trump Staffer Started Russian ...</td>\n",
       "      <td>House Intelligence Committee Chairman Devin Nu...</td>\n",
       "      <td>News</td>\n",
       "      <td>December 31, 2017</td>\n",
       "    </tr>\n",
       "    <tr>\n",
       "      <th>2</th>\n",
       "      <td>Sheriff David Clarke Becomes An Internet Joke...</td>\n",
       "      <td>On Friday, it was revealed that former Milwauk...</td>\n",
       "      <td>News</td>\n",
       "      <td>December 30, 2017</td>\n",
       "    </tr>\n",
       "    <tr>\n",
       "      <th>3</th>\n",
       "      <td>Trump Is So Obsessed He Even Has Obama’s Name...</td>\n",
       "      <td>On Christmas day, Donald Trump announced that ...</td>\n",
       "      <td>News</td>\n",
       "      <td>December 29, 2017</td>\n",
       "    </tr>\n",
       "    <tr>\n",
       "      <th>4</th>\n",
       "      <td>Pope Francis Just Called Out Donald Trump Dur...</td>\n",
       "      <td>Pope Francis used his annual Christmas Day mes...</td>\n",
       "      <td>News</td>\n",
       "      <td>December 25, 2017</td>\n",
       "    </tr>\n",
       "    <tr>\n",
       "      <th>5</th>\n",
       "      <td>Racist Alabama Cops Brutalize Black Boy While...</td>\n",
       "      <td>The number of cases of cops brutalizing and ki...</td>\n",
       "      <td>News</td>\n",
       "      <td>December 25, 2017</td>\n",
       "    </tr>\n",
       "  </tbody>\n",
       "</table>\n",
       "</div>"
      ],
      "text/plain": [
       "                                               title  \\\n",
       "0   Donald Trump Sends Out Embarrassing New Year’...   \n",
       "1   Drunk Bragging Trump Staffer Started Russian ...   \n",
       "2   Sheriff David Clarke Becomes An Internet Joke...   \n",
       "3   Trump Is So Obsessed He Even Has Obama’s Name...   \n",
       "4   Pope Francis Just Called Out Donald Trump Dur...   \n",
       "5   Racist Alabama Cops Brutalize Black Boy While...   \n",
       "\n",
       "                                                text subject  \\\n",
       "0  Donald Trump just couldn t wish all Americans ...    News   \n",
       "1  House Intelligence Committee Chairman Devin Nu...    News   \n",
       "2  On Friday, it was revealed that former Milwauk...    News   \n",
       "3  On Christmas day, Donald Trump announced that ...    News   \n",
       "4  Pope Francis used his annual Christmas Day mes...    News   \n",
       "5  The number of cases of cops brutalizing and ki...    News   \n",
       "\n",
       "                date  \n",
       "0  December 31, 2017  \n",
       "1  December 31, 2017  \n",
       "2  December 30, 2017  \n",
       "3  December 29, 2017  \n",
       "4  December 25, 2017  \n",
       "5  December 25, 2017  "
      ]
     },
     "execution_count": 5,
     "metadata": {},
     "output_type": "execute_result"
    }
   ],
   "source": [
    "fake_df1.head(6)"
   ]
  },
  {
   "cell_type": "code",
   "execution_count": 6,
   "id": "1c66eb4c",
   "metadata": {},
   "outputs": [
    {
     "data": {
      "text/html": [
       "<div>\n",
       "<style scoped>\n",
       "    .dataframe tbody tr th:only-of-type {\n",
       "        vertical-align: middle;\n",
       "    }\n",
       "\n",
       "    .dataframe tbody tr th {\n",
       "        vertical-align: top;\n",
       "    }\n",
       "\n",
       "    .dataframe thead th {\n",
       "        text-align: right;\n",
       "    }\n",
       "</style>\n",
       "<table border=\"1\" class=\"dataframe\">\n",
       "  <thead>\n",
       "    <tr style=\"text-align: right;\">\n",
       "      <th></th>\n",
       "      <th>title</th>\n",
       "      <th>text</th>\n",
       "      <th>subject</th>\n",
       "      <th>date</th>\n",
       "    </tr>\n",
       "  </thead>\n",
       "  <tbody>\n",
       "    <tr>\n",
       "      <th>count</th>\n",
       "      <td>23481</td>\n",
       "      <td>23481</td>\n",
       "      <td>23481</td>\n",
       "      <td>23481</td>\n",
       "    </tr>\n",
       "    <tr>\n",
       "      <th>unique</th>\n",
       "      <td>17903</td>\n",
       "      <td>17455</td>\n",
       "      <td>6</td>\n",
       "      <td>1681</td>\n",
       "    </tr>\n",
       "    <tr>\n",
       "      <th>top</th>\n",
       "      <td>MEDIA IGNORES Time That Bill Clinton FIRED His...</td>\n",
       "      <td></td>\n",
       "      <td>News</td>\n",
       "      <td>May 10, 2017</td>\n",
       "    </tr>\n",
       "    <tr>\n",
       "      <th>freq</th>\n",
       "      <td>6</td>\n",
       "      <td>626</td>\n",
       "      <td>9050</td>\n",
       "      <td>46</td>\n",
       "    </tr>\n",
       "  </tbody>\n",
       "</table>\n",
       "</div>"
      ],
      "text/plain": [
       "                                                    title   text subject  \\\n",
       "count                                               23481  23481   23481   \n",
       "unique                                              17903  17455       6   \n",
       "top     MEDIA IGNORES Time That Bill Clinton FIRED His...           News   \n",
       "freq                                                    6    626    9050   \n",
       "\n",
       "                date  \n",
       "count          23481  \n",
       "unique          1681  \n",
       "top     May 10, 2017  \n",
       "freq              46  "
      ]
     },
     "execution_count": 6,
     "metadata": {},
     "output_type": "execute_result"
    }
   ],
   "source": [
    "fake_df1.describe()"
   ]
  },
  {
   "cell_type": "code",
   "execution_count": 7,
   "id": "79b90329",
   "metadata": {},
   "outputs": [
    {
     "data": {
      "text/plain": [
       "(23481, 4)"
      ]
     },
     "execution_count": 7,
     "metadata": {},
     "output_type": "execute_result"
    }
   ],
   "source": [
    "fake_df1.shape"
   ]
  },
  {
   "cell_type": "code",
   "execution_count": 8,
   "id": "8fdbb57d",
   "metadata": {},
   "outputs": [
    {
     "name": "stdout",
     "output_type": "stream",
     "text": [
      "<class 'pandas.core.frame.DataFrame'>\n",
      "RangeIndex: 23481 entries, 0 to 23480\n",
      "Data columns (total 4 columns):\n",
      " #   Column   Non-Null Count  Dtype \n",
      "---  ------   --------------  ----- \n",
      " 0   title    23481 non-null  object\n",
      " 1   text     23481 non-null  object\n",
      " 2   subject  23481 non-null  object\n",
      " 3   date     23481 non-null  object\n",
      "dtypes: object(4)\n",
      "memory usage: 733.9+ KB\n"
     ]
    }
   ],
   "source": [
    "fake_df1.info()"
   ]
  },
  {
   "cell_type": "code",
   "execution_count": 9,
   "id": "5118a61f",
   "metadata": {},
   "outputs": [
    {
     "data": {
      "text/plain": [
       "title      0\n",
       "text       0\n",
       "subject    0\n",
       "date       0\n",
       "dtype: int64"
      ]
     },
     "execution_count": 9,
     "metadata": {},
     "output_type": "execute_result"
    }
   ],
   "source": [
    "fake_df1.isnull().sum()"
   ]
  },
  {
   "cell_type": "markdown",
   "id": "15d12099",
   "metadata": {},
   "source": [
    "#### Let's find and remove duplicates in Fake DF"
   ]
  },
  {
   "cell_type": "code",
   "execution_count": 10,
   "id": "0862881e",
   "metadata": {},
   "outputs": [
    {
     "name": "stdout",
     "output_type": "stream",
     "text": [
      "\u001b[1m\u001b[34mFound 6026 duplicate in 23481 samples\u001b[0m\n"
     ]
    }
   ],
   "source": [
    "duplicate = fake_df1['text'][fake_df1['text'].duplicated()].index\n",
    "result = f\"Found {len(duplicate)} duplicate in {fake_df1.shape[0]} samples\"\n",
    "print(colored(result, 'blue', attrs=['bold']))"
   ]
  },
  {
   "cell_type": "code",
   "execution_count": 11,
   "id": "8a354c9c",
   "metadata": {},
   "outputs": [
    {
     "name": "stdout",
     "output_type": "stream",
     "text": [
      "(17455, 4) \n",
      "\n"
     ]
    },
    {
     "data": {
      "text/html": [
       "<div>\n",
       "<style scoped>\n",
       "    .dataframe tbody tr th:only-of-type {\n",
       "        vertical-align: middle;\n",
       "    }\n",
       "\n",
       "    .dataframe tbody tr th {\n",
       "        vertical-align: top;\n",
       "    }\n",
       "\n",
       "    .dataframe thead th {\n",
       "        text-align: right;\n",
       "    }\n",
       "</style>\n",
       "<table border=\"1\" class=\"dataframe\">\n",
       "  <thead>\n",
       "    <tr style=\"text-align: right;\">\n",
       "      <th></th>\n",
       "      <th>title</th>\n",
       "      <th>text</th>\n",
       "      <th>subject</th>\n",
       "      <th>date</th>\n",
       "    </tr>\n",
       "  </thead>\n",
       "  <tbody>\n",
       "    <tr>\n",
       "      <th>5675</th>\n",
       "      <td>Paul Ryan: Republicans ‘Will Not Tolerate’ Mo...</td>\n",
       "      <td>The Democrats in the House of Representatives ...</td>\n",
       "      <td>News</td>\n",
       "      <td>June 29, 2016</td>\n",
       "    </tr>\n",
       "  </tbody>\n",
       "</table>\n",
       "</div>"
      ],
      "text/plain": [
       "                                                  title  \\\n",
       "5675   Paul Ryan: Republicans ‘Will Not Tolerate’ Mo...   \n",
       "\n",
       "                                                   text subject           date  \n",
       "5675  The Democrats in the House of Representatives ...    News  June 29, 2016  "
      ]
     },
     "execution_count": 11,
     "metadata": {},
     "output_type": "execute_result"
    }
   ],
   "source": [
    "# remove duplicates \n",
    "\n",
    "fake_df1.drop(index=duplicate, inplace=True)\n",
    "print(fake_df1.shape, '\\n')\n",
    "fake_df1.sample()"
   ]
  },
  {
   "cell_type": "code",
   "execution_count": 12,
   "id": "eec16671",
   "metadata": {},
   "outputs": [
    {
     "data": {
      "text/plain": [
       "array(['News', 'politics', 'Government News', 'left-news', 'US_News'],\n",
       "      dtype=object)"
      ]
     },
     "execution_count": 12,
     "metadata": {},
     "output_type": "execute_result"
    }
   ],
   "source": [
    "fake_df1['subject'].unique()"
   ]
  },
  {
   "cell_type": "markdown",
   "id": "f6b83f33",
   "metadata": {},
   "source": [
    "### Quick explanatory analysis of Real News DF"
   ]
  },
  {
   "cell_type": "code",
   "execution_count": 13,
   "id": "f2f958e8",
   "metadata": {},
   "outputs": [
    {
     "data": {
      "text/html": [
       "<div>\n",
       "<style scoped>\n",
       "    .dataframe tbody tr th:only-of-type {\n",
       "        vertical-align: middle;\n",
       "    }\n",
       "\n",
       "    .dataframe tbody tr th {\n",
       "        vertical-align: top;\n",
       "    }\n",
       "\n",
       "    .dataframe thead th {\n",
       "        text-align: right;\n",
       "    }\n",
       "</style>\n",
       "<table border=\"1\" class=\"dataframe\">\n",
       "  <thead>\n",
       "    <tr style=\"text-align: right;\">\n",
       "      <th></th>\n",
       "      <th>title</th>\n",
       "      <th>text</th>\n",
       "      <th>subject</th>\n",
       "      <th>date</th>\n",
       "    </tr>\n",
       "  </thead>\n",
       "  <tbody>\n",
       "    <tr>\n",
       "      <th>0</th>\n",
       "      <td>As U.S. budget fight looms, Republicans flip t...</td>\n",
       "      <td>WASHINGTON (Reuters) - The head of a conservat...</td>\n",
       "      <td>politicsNews</td>\n",
       "      <td>December 31, 2017</td>\n",
       "    </tr>\n",
       "    <tr>\n",
       "      <th>1</th>\n",
       "      <td>U.S. military to accept transgender recruits o...</td>\n",
       "      <td>WASHINGTON (Reuters) - Transgender people will...</td>\n",
       "      <td>politicsNews</td>\n",
       "      <td>December 29, 2017</td>\n",
       "    </tr>\n",
       "    <tr>\n",
       "      <th>2</th>\n",
       "      <td>Senior U.S. Republican senator: 'Let Mr. Muell...</td>\n",
       "      <td>WASHINGTON (Reuters) - The special counsel inv...</td>\n",
       "      <td>politicsNews</td>\n",
       "      <td>December 31, 2017</td>\n",
       "    </tr>\n",
       "    <tr>\n",
       "      <th>3</th>\n",
       "      <td>FBI Russia probe helped by Australian diplomat...</td>\n",
       "      <td>WASHINGTON (Reuters) - Trump campaign adviser ...</td>\n",
       "      <td>politicsNews</td>\n",
       "      <td>December 30, 2017</td>\n",
       "    </tr>\n",
       "    <tr>\n",
       "      <th>4</th>\n",
       "      <td>Trump wants Postal Service to charge 'much mor...</td>\n",
       "      <td>SEATTLE/WASHINGTON (Reuters) - President Donal...</td>\n",
       "      <td>politicsNews</td>\n",
       "      <td>December 29, 2017</td>\n",
       "    </tr>\n",
       "    <tr>\n",
       "      <th>5</th>\n",
       "      <td>White House, Congress prepare for talks on spe...</td>\n",
       "      <td>WEST PALM BEACH, Fla./WASHINGTON (Reuters) - T...</td>\n",
       "      <td>politicsNews</td>\n",
       "      <td>December 29, 2017</td>\n",
       "    </tr>\n",
       "  </tbody>\n",
       "</table>\n",
       "</div>"
      ],
      "text/plain": [
       "                                               title  \\\n",
       "0  As U.S. budget fight looms, Republicans flip t...   \n",
       "1  U.S. military to accept transgender recruits o...   \n",
       "2  Senior U.S. Republican senator: 'Let Mr. Muell...   \n",
       "3  FBI Russia probe helped by Australian diplomat...   \n",
       "4  Trump wants Postal Service to charge 'much mor...   \n",
       "5  White House, Congress prepare for talks on spe...   \n",
       "\n",
       "                                                text       subject  \\\n",
       "0  WASHINGTON (Reuters) - The head of a conservat...  politicsNews   \n",
       "1  WASHINGTON (Reuters) - Transgender people will...  politicsNews   \n",
       "2  WASHINGTON (Reuters) - The special counsel inv...  politicsNews   \n",
       "3  WASHINGTON (Reuters) - Trump campaign adviser ...  politicsNews   \n",
       "4  SEATTLE/WASHINGTON (Reuters) - President Donal...  politicsNews   \n",
       "5  WEST PALM BEACH, Fla./WASHINGTON (Reuters) - T...  politicsNews   \n",
       "\n",
       "                 date  \n",
       "0  December 31, 2017   \n",
       "1  December 29, 2017   \n",
       "2  December 31, 2017   \n",
       "3  December 30, 2017   \n",
       "4  December 29, 2017   \n",
       "5  December 29, 2017   "
      ]
     },
     "execution_count": 13,
     "metadata": {},
     "output_type": "execute_result"
    }
   ],
   "source": [
    "real_df1.head(6)"
   ]
  },
  {
   "cell_type": "code",
   "execution_count": 14,
   "id": "880e4326",
   "metadata": {},
   "outputs": [
    {
     "data": {
      "text/html": [
       "<div>\n",
       "<style scoped>\n",
       "    .dataframe tbody tr th:only-of-type {\n",
       "        vertical-align: middle;\n",
       "    }\n",
       "\n",
       "    .dataframe tbody tr th {\n",
       "        vertical-align: top;\n",
       "    }\n",
       "\n",
       "    .dataframe thead th {\n",
       "        text-align: right;\n",
       "    }\n",
       "</style>\n",
       "<table border=\"1\" class=\"dataframe\">\n",
       "  <thead>\n",
       "    <tr style=\"text-align: right;\">\n",
       "      <th></th>\n",
       "      <th>title</th>\n",
       "      <th>text</th>\n",
       "      <th>subject</th>\n",
       "      <th>date</th>\n",
       "    </tr>\n",
       "  </thead>\n",
       "  <tbody>\n",
       "    <tr>\n",
       "      <th>count</th>\n",
       "      <td>21417</td>\n",
       "      <td>21417</td>\n",
       "      <td>21417</td>\n",
       "      <td>21417</td>\n",
       "    </tr>\n",
       "    <tr>\n",
       "      <th>unique</th>\n",
       "      <td>20826</td>\n",
       "      <td>21192</td>\n",
       "      <td>2</td>\n",
       "      <td>716</td>\n",
       "    </tr>\n",
       "    <tr>\n",
       "      <th>top</th>\n",
       "      <td>Factbox: Trump fills top jobs for his administ...</td>\n",
       "      <td>(Reuters) - Highlights for U.S. President Dona...</td>\n",
       "      <td>politicsNews</td>\n",
       "      <td>December 20, 2017</td>\n",
       "    </tr>\n",
       "    <tr>\n",
       "      <th>freq</th>\n",
       "      <td>14</td>\n",
       "      <td>8</td>\n",
       "      <td>11272</td>\n",
       "      <td>182</td>\n",
       "    </tr>\n",
       "  </tbody>\n",
       "</table>\n",
       "</div>"
      ],
      "text/plain": [
       "                                                    title  \\\n",
       "count                                               21417   \n",
       "unique                                              20826   \n",
       "top     Factbox: Trump fills top jobs for his administ...   \n",
       "freq                                                   14   \n",
       "\n",
       "                                                     text       subject  \\\n",
       "count                                               21417         21417   \n",
       "unique                                              21192             2   \n",
       "top     (Reuters) - Highlights for U.S. President Dona...  politicsNews   \n",
       "freq                                                    8         11272   \n",
       "\n",
       "                      date  \n",
       "count                21417  \n",
       "unique                 716  \n",
       "top     December 20, 2017   \n",
       "freq                   182  "
      ]
     },
     "execution_count": 14,
     "metadata": {},
     "output_type": "execute_result"
    }
   ],
   "source": [
    "real_df1.describe()"
   ]
  },
  {
   "cell_type": "code",
   "execution_count": 15,
   "id": "9111151f",
   "metadata": {},
   "outputs": [
    {
     "data": {
      "text/plain": [
       "(21417, 4)"
      ]
     },
     "execution_count": 15,
     "metadata": {},
     "output_type": "execute_result"
    }
   ],
   "source": [
    "real_df1.shape"
   ]
  },
  {
   "cell_type": "code",
   "execution_count": 16,
   "id": "ef1bf211",
   "metadata": {},
   "outputs": [
    {
     "name": "stdout",
     "output_type": "stream",
     "text": [
      "<class 'pandas.core.frame.DataFrame'>\n",
      "RangeIndex: 21417 entries, 0 to 21416\n",
      "Data columns (total 4 columns):\n",
      " #   Column   Non-Null Count  Dtype \n",
      "---  ------   --------------  ----- \n",
      " 0   title    21417 non-null  object\n",
      " 1   text     21417 non-null  object\n",
      " 2   subject  21417 non-null  object\n",
      " 3   date     21417 non-null  object\n",
      "dtypes: object(4)\n",
      "memory usage: 669.4+ KB\n"
     ]
    }
   ],
   "source": [
    "real_df1.info()"
   ]
  },
  {
   "cell_type": "code",
   "execution_count": 17,
   "id": "91141cb2",
   "metadata": {},
   "outputs": [
    {
     "data": {
      "text/plain": [
       "title      0\n",
       "text       0\n",
       "subject    0\n",
       "date       0\n",
       "dtype: int64"
      ]
     },
     "execution_count": 17,
     "metadata": {},
     "output_type": "execute_result"
    }
   ],
   "source": [
    "real_df1.isnull().sum()"
   ]
  },
  {
   "cell_type": "markdown",
   "id": "ff72d9a2",
   "metadata": {},
   "source": [
    "#### Let's Find and remove duplicates in Real DF"
   ]
  },
  {
   "cell_type": "code",
   "execution_count": 18,
   "id": "017d8f62",
   "metadata": {},
   "outputs": [
    {
     "name": "stdout",
     "output_type": "stream",
     "text": [
      "\u001b[1m\u001b[34mFound 225 duplicate in 21417 samples\u001b[0m\n"
     ]
    }
   ],
   "source": [
    "duplicate = real_df1['text'][real_df1['text'].duplicated()].index\n",
    "result = f\"Found {len(duplicate)} duplicate in {real_df1.shape[0]} samples\"\n",
    "print(colored(result, 'blue', attrs=['bold']))"
   ]
  },
  {
   "cell_type": "code",
   "execution_count": 19,
   "id": "c71dcbc5",
   "metadata": {},
   "outputs": [
    {
     "name": "stdout",
     "output_type": "stream",
     "text": [
      "(21192, 4) \n",
      "\n"
     ]
    },
    {
     "data": {
      "text/html": [
       "<div>\n",
       "<style scoped>\n",
       "    .dataframe tbody tr th:only-of-type {\n",
       "        vertical-align: middle;\n",
       "    }\n",
       "\n",
       "    .dataframe tbody tr th {\n",
       "        vertical-align: top;\n",
       "    }\n",
       "\n",
       "    .dataframe thead th {\n",
       "        text-align: right;\n",
       "    }\n",
       "</style>\n",
       "<table border=\"1\" class=\"dataframe\">\n",
       "  <thead>\n",
       "    <tr style=\"text-align: right;\">\n",
       "      <th></th>\n",
       "      <th>title</th>\n",
       "      <th>text</th>\n",
       "      <th>subject</th>\n",
       "      <th>date</th>\n",
       "    </tr>\n",
       "  </thead>\n",
       "  <tbody>\n",
       "    <tr>\n",
       "      <th>5744</th>\n",
       "      <td>Exclusive: Trump to focus counter-extremism pr...</td>\n",
       "      <td>WASHINGTON/SAN FRANCISCO (Reuters) - The Trum...</td>\n",
       "      <td>politicsNews</td>\n",
       "      <td>February 1, 2017</td>\n",
       "    </tr>\n",
       "  </tbody>\n",
       "</table>\n",
       "</div>"
      ],
      "text/plain": [
       "                                                  title  \\\n",
       "5744  Exclusive: Trump to focus counter-extremism pr...   \n",
       "\n",
       "                                                   text       subject  \\\n",
       "5744   WASHINGTON/SAN FRANCISCO (Reuters) - The Trum...  politicsNews   \n",
       "\n",
       "                   date  \n",
       "5744  February 1, 2017   "
      ]
     },
     "execution_count": 19,
     "metadata": {},
     "output_type": "execute_result"
    }
   ],
   "source": [
    "real_df1.drop(index=duplicate, inplace=True)\n",
    "print(real_df1.shape, '\\n')\n",
    "real_df1.sample()"
   ]
  },
  {
   "cell_type": "code",
   "execution_count": 20,
   "id": "3ed7cdde",
   "metadata": {},
   "outputs": [
    {
     "data": {
      "text/plain": [
       "politicsNews    11214\n",
       "worldnews        9978\n",
       "Name: subject, dtype: int64"
      ]
     },
     "execution_count": 20,
     "metadata": {},
     "output_type": "execute_result"
    }
   ],
   "source": [
    "real_df1['subject'].value_counts()"
   ]
  },
  {
   "cell_type": "code",
   "execution_count": 21,
   "id": "83fd65a5",
   "metadata": {},
   "outputs": [
    {
     "name": "stdout",
     "output_type": "stream",
     "text": [
      "(17455, 4)\n",
      "(21192, 4)\n"
     ]
    }
   ],
   "source": [
    "print(fake_df1.shape)\n",
    "print(real_df1.shape)"
   ]
  },
  {
   "cell_type": "markdown",
   "id": "901bfe07",
   "metadata": {},
   "source": [
    "### Let's add 'true' label for easier reference where Fake = 0, Real = 1"
   ]
  },
  {
   "cell_type": "code",
   "execution_count": 22,
   "id": "04905528",
   "metadata": {},
   "outputs": [
    {
     "name": "stdout",
     "output_type": "stream",
     "text": [
      "(17455, 5)\n",
      "(21192, 5)\n"
     ]
    }
   ],
   "source": [
    "# label the diff df for easier ref\n",
    "\n",
    "fake_df1['true'] = 0\n",
    "real_df1['true'] = 1\n",
    "\n",
    "# print new shape \n",
    "print(fake_df1.shape)\n",
    "print(real_df1.shape)"
   ]
  },
  {
   "cell_type": "code",
   "execution_count": 23,
   "id": "854140f3",
   "metadata": {},
   "outputs": [
    {
     "data": {
      "text/plain": [
       "<bound method NDFrame.describe of                                                    title  \\\n",
       "0      As U.S. budget fight looms, Republicans flip t...   \n",
       "1      U.S. military to accept transgender recruits o...   \n",
       "2      Senior U.S. Republican senator: 'Let Mr. Muell...   \n",
       "3      FBI Russia probe helped by Australian diplomat...   \n",
       "4      Trump wants Postal Service to charge 'much mor...   \n",
       "...                                                  ...   \n",
       "21412  'Fully committed' NATO backs new U.S. approach...   \n",
       "21413  LexisNexis withdrew two products from Chinese ...   \n",
       "21414  Minsk cultural hub becomes haven from authorities   \n",
       "21415  Vatican upbeat on possibility of Pope Francis ...   \n",
       "21416  Indonesia to buy $1.14 billion worth of Russia...   \n",
       "\n",
       "                                                    text       subject  \\\n",
       "0      WASHINGTON (Reuters) - The head of a conservat...  politicsNews   \n",
       "1      WASHINGTON (Reuters) - Transgender people will...  politicsNews   \n",
       "2      WASHINGTON (Reuters) - The special counsel inv...  politicsNews   \n",
       "3      WASHINGTON (Reuters) - Trump campaign adviser ...  politicsNews   \n",
       "4      SEATTLE/WASHINGTON (Reuters) - President Donal...  politicsNews   \n",
       "...                                                  ...           ...   \n",
       "21412  BRUSSELS (Reuters) - NATO allies on Tuesday we...     worldnews   \n",
       "21413  LONDON (Reuters) - LexisNexis, a provider of l...     worldnews   \n",
       "21414  MINSK (Reuters) - In the shadow of disused Sov...     worldnews   \n",
       "21415  MOSCOW (Reuters) - Vatican Secretary of State ...     worldnews   \n",
       "21416  JAKARTA (Reuters) - Indonesia will buy 11 Sukh...     worldnews   \n",
       "\n",
       "                     date  true  \n",
       "0      December 31, 2017      1  \n",
       "1      December 29, 2017      1  \n",
       "2      December 31, 2017      1  \n",
       "3      December 30, 2017      1  \n",
       "4      December 29, 2017      1  \n",
       "...                   ...   ...  \n",
       "21412    August 22, 2017      1  \n",
       "21413    August 22, 2017      1  \n",
       "21414    August 22, 2017      1  \n",
       "21415    August 22, 2017      1  \n",
       "21416    August 22, 2017      1  \n",
       "\n",
       "[21192 rows x 5 columns]>"
      ]
     },
     "execution_count": 23,
     "metadata": {},
     "output_type": "execute_result"
    }
   ],
   "source": [
    "# just to see \n",
    "\n",
    "real_df1.describe\n"
   ]
  },
  {
   "cell_type": "code",
   "execution_count": 24,
   "id": "9b8bf111",
   "metadata": {},
   "outputs": [
    {
     "data": {
      "text/html": [
       "<div>\n",
       "<style scoped>\n",
       "    .dataframe tbody tr th:only-of-type {\n",
       "        vertical-align: middle;\n",
       "    }\n",
       "\n",
       "    .dataframe tbody tr th {\n",
       "        vertical-align: top;\n",
       "    }\n",
       "\n",
       "    .dataframe thead th {\n",
       "        text-align: right;\n",
       "    }\n",
       "</style>\n",
       "<table border=\"1\" class=\"dataframe\">\n",
       "  <thead>\n",
       "    <tr style=\"text-align: right;\">\n",
       "      <th></th>\n",
       "      <th>title</th>\n",
       "      <th>text</th>\n",
       "      <th>subject</th>\n",
       "      <th>date</th>\n",
       "      <th>true</th>\n",
       "    </tr>\n",
       "  </thead>\n",
       "  <tbody>\n",
       "    <tr>\n",
       "      <th>0</th>\n",
       "      <td>Donald Trump Sends Out Embarrassing New Year’...</td>\n",
       "      <td>Donald Trump just couldn t wish all Americans ...</td>\n",
       "      <td>News</td>\n",
       "      <td>December 31, 2017</td>\n",
       "      <td>0</td>\n",
       "    </tr>\n",
       "    <tr>\n",
       "      <th>1</th>\n",
       "      <td>Drunk Bragging Trump Staffer Started Russian ...</td>\n",
       "      <td>House Intelligence Committee Chairman Devin Nu...</td>\n",
       "      <td>News</td>\n",
       "      <td>December 31, 2017</td>\n",
       "      <td>0</td>\n",
       "    </tr>\n",
       "    <tr>\n",
       "      <th>2</th>\n",
       "      <td>Sheriff David Clarke Becomes An Internet Joke...</td>\n",
       "      <td>On Friday, it was revealed that former Milwauk...</td>\n",
       "      <td>News</td>\n",
       "      <td>December 30, 2017</td>\n",
       "      <td>0</td>\n",
       "    </tr>\n",
       "    <tr>\n",
       "      <th>3</th>\n",
       "      <td>Trump Is So Obsessed He Even Has Obama’s Name...</td>\n",
       "      <td>On Christmas day, Donald Trump announced that ...</td>\n",
       "      <td>News</td>\n",
       "      <td>December 29, 2017</td>\n",
       "      <td>0</td>\n",
       "    </tr>\n",
       "    <tr>\n",
       "      <th>4</th>\n",
       "      <td>Pope Francis Just Called Out Donald Trump Dur...</td>\n",
       "      <td>Pope Francis used his annual Christmas Day mes...</td>\n",
       "      <td>News</td>\n",
       "      <td>December 25, 2017</td>\n",
       "      <td>0</td>\n",
       "    </tr>\n",
       "    <tr>\n",
       "      <th>...</th>\n",
       "      <td>...</td>\n",
       "      <td>...</td>\n",
       "      <td>...</td>\n",
       "      <td>...</td>\n",
       "      <td>...</td>\n",
       "    </tr>\n",
       "    <tr>\n",
       "      <th>38642</th>\n",
       "      <td>'Fully committed' NATO backs new U.S. approach...</td>\n",
       "      <td>BRUSSELS (Reuters) - NATO allies on Tuesday we...</td>\n",
       "      <td>worldnews</td>\n",
       "      <td>August 22, 2017</td>\n",
       "      <td>1</td>\n",
       "    </tr>\n",
       "    <tr>\n",
       "      <th>38643</th>\n",
       "      <td>LexisNexis withdrew two products from Chinese ...</td>\n",
       "      <td>LONDON (Reuters) - LexisNexis, a provider of l...</td>\n",
       "      <td>worldnews</td>\n",
       "      <td>August 22, 2017</td>\n",
       "      <td>1</td>\n",
       "    </tr>\n",
       "    <tr>\n",
       "      <th>38644</th>\n",
       "      <td>Minsk cultural hub becomes haven from authorities</td>\n",
       "      <td>MINSK (Reuters) - In the shadow of disused Sov...</td>\n",
       "      <td>worldnews</td>\n",
       "      <td>August 22, 2017</td>\n",
       "      <td>1</td>\n",
       "    </tr>\n",
       "    <tr>\n",
       "      <th>38645</th>\n",
       "      <td>Vatican upbeat on possibility of Pope Francis ...</td>\n",
       "      <td>MOSCOW (Reuters) - Vatican Secretary of State ...</td>\n",
       "      <td>worldnews</td>\n",
       "      <td>August 22, 2017</td>\n",
       "      <td>1</td>\n",
       "    </tr>\n",
       "    <tr>\n",
       "      <th>38646</th>\n",
       "      <td>Indonesia to buy $1.14 billion worth of Russia...</td>\n",
       "      <td>JAKARTA (Reuters) - Indonesia will buy 11 Sukh...</td>\n",
       "      <td>worldnews</td>\n",
       "      <td>August 22, 2017</td>\n",
       "      <td>1</td>\n",
       "    </tr>\n",
       "  </tbody>\n",
       "</table>\n",
       "<p>38647 rows × 5 columns</p>\n",
       "</div>"
      ],
      "text/plain": [
       "                                                   title  \\\n",
       "0       Donald Trump Sends Out Embarrassing New Year’...   \n",
       "1       Drunk Bragging Trump Staffer Started Russian ...   \n",
       "2       Sheriff David Clarke Becomes An Internet Joke...   \n",
       "3       Trump Is So Obsessed He Even Has Obama’s Name...   \n",
       "4       Pope Francis Just Called Out Donald Trump Dur...   \n",
       "...                                                  ...   \n",
       "38642  'Fully committed' NATO backs new U.S. approach...   \n",
       "38643  LexisNexis withdrew two products from Chinese ...   \n",
       "38644  Minsk cultural hub becomes haven from authorities   \n",
       "38645  Vatican upbeat on possibility of Pope Francis ...   \n",
       "38646  Indonesia to buy $1.14 billion worth of Russia...   \n",
       "\n",
       "                                                    text    subject  \\\n",
       "0      Donald Trump just couldn t wish all Americans ...       News   \n",
       "1      House Intelligence Committee Chairman Devin Nu...       News   \n",
       "2      On Friday, it was revealed that former Milwauk...       News   \n",
       "3      On Christmas day, Donald Trump announced that ...       News   \n",
       "4      Pope Francis used his annual Christmas Day mes...       News   \n",
       "...                                                  ...        ...   \n",
       "38642  BRUSSELS (Reuters) - NATO allies on Tuesday we...  worldnews   \n",
       "38643  LONDON (Reuters) - LexisNexis, a provider of l...  worldnews   \n",
       "38644  MINSK (Reuters) - In the shadow of disused Sov...  worldnews   \n",
       "38645  MOSCOW (Reuters) - Vatican Secretary of State ...  worldnews   \n",
       "38646  JAKARTA (Reuters) - Indonesia will buy 11 Sukh...  worldnews   \n",
       "\n",
       "                    date  true  \n",
       "0      December 31, 2017     0  \n",
       "1      December 31, 2017     0  \n",
       "2      December 30, 2017     0  \n",
       "3      December 29, 2017     0  \n",
       "4      December 25, 2017     0  \n",
       "...                  ...   ...  \n",
       "38642   August 22, 2017      1  \n",
       "38643   August 22, 2017      1  \n",
       "38644   August 22, 2017      1  \n",
       "38645   August 22, 2017      1  \n",
       "38646   August 22, 2017      1  \n",
       "\n",
       "[38647 rows x 5 columns]"
      ]
     },
     "execution_count": 24,
     "metadata": {},
     "output_type": "execute_result"
    }
   ],
   "source": [
    "# concat the two datasets  \n",
    "\n",
    "raw_df = pd.concat([fake_df1, real_df1], ignore_index = True)\n",
    "raw_df"
   ]
  },
  {
   "cell_type": "code",
   "execution_count": 25,
   "id": "3eebeb4f",
   "metadata": {},
   "outputs": [
    {
     "name": "stdout",
     "output_type": "stream",
     "text": [
      "<class 'pandas.core.frame.DataFrame'>\n",
      "RangeIndex: 38647 entries, 0 to 38646\n",
      "Data columns (total 5 columns):\n",
      " #   Column   Non-Null Count  Dtype \n",
      "---  ------   --------------  ----- \n",
      " 0   title    38647 non-null  object\n",
      " 1   text     38647 non-null  object\n",
      " 2   subject  38647 non-null  object\n",
      " 3   date     38647 non-null  object\n",
      " 4   true     38647 non-null  int64 \n",
      "dtypes: int64(1), object(4)\n",
      "memory usage: 1.5+ MB\n"
     ]
    }
   ],
   "source": [
    "raw_df.info()"
   ]
  },
  {
   "cell_type": "code",
   "execution_count": 26,
   "id": "9775e47e",
   "metadata": {},
   "outputs": [
    {
     "data": {
      "text/plain": [
       "1    21192\n",
       "0    17455\n",
       "Name: true, dtype: int64"
      ]
     },
     "execution_count": 26,
     "metadata": {},
     "output_type": "execute_result"
    }
   ],
   "source": [
    "# How many are real, and how many are fake? \n",
    "\n",
    "raw_df.true.value_counts()"
   ]
  },
  {
   "cell_type": "code",
   "execution_count": 27,
   "id": "59f05e71",
   "metadata": {},
   "outputs": [
    {
     "data": {
      "text/plain": [
       "(17455, 21192)"
      ]
     },
     "execution_count": 27,
     "metadata": {},
     "output_type": "execute_result"
    }
   ],
   "source": [
    "fake = raw_df[raw_df['true']==0].shape[0]\n",
    "real = raw_df[raw_df['true']==1].shape[0]\n",
    "fake, real"
   ]
  },
  {
   "cell_type": "code",
   "execution_count": 28,
   "id": "5de3908a",
   "metadata": {},
   "outputs": [
    {
     "name": "stdout",
     "output_type": "stream",
     "text": [
      "politicsNews:\t11214\n",
      "worldnews:\t9978\n",
      "News:\t9050\n",
      "politics:\t6425\n",
      "US_News:\t783\n",
      "left-news:\t683\n",
      "Government News:\t514\n"
     ]
    }
   ],
   "source": [
    "# alternative way of counting by subject\n",
    "\n",
    "for key, count in raw_df['subject'].value_counts().iteritems():\n",
    "    print(f\"{key}:\\t{count}\")"
   ]
  },
  {
   "cell_type": "markdown",
   "id": "3ebacbc2",
   "metadata": {},
   "source": [
    "### Let's visualise raw_df before any cleaning to allow comparison "
   ]
  },
  {
   "cell_type": "code",
   "execution_count": 29,
   "id": "55f4b462",
   "metadata": {
    "scrolled": true
   },
   "outputs": [
    {
     "name": "stderr",
     "output_type": "stream",
     "text": [
      "/Users/Taurai/opt/anaconda3/lib/python3.9/site-packages/seaborn/_decorators.py:36: FutureWarning: Pass the following variable as a keyword arg: x. From version 0.12, the only valid positional argument will be `data`, and passing other arguments without an explicit keyword will result in an error or misinterpretation.\n",
      "  warnings.warn(\n"
     ]
    },
    {
     "data": {
      "image/png": "[encoded data removed]",
      "text/plain": [
       "<Figure size 720x432 with 1 Axes>"
      ]
     },
     "metadata": {
      "needs_background": "light"
     },
     "output_type": "display_data"
    }
   ],
   "source": [
    "# spread of information sources/ subjects in raw df \n",
    "\n",
    "plt.figure(figsize=(10,6))\n",
    "sns.countplot('subject', data = raw_df)\n",
    "plt.show()"
   ]
  },
  {
   "cell_type": "code",
   "execution_count": 30,
   "id": "9f88fed5",
   "metadata": {},
   "outputs": [
    {
     "data": {
      "text/plain": [
       "<bound method SeriesGroupBy.count of <pandas.core.groupby.generic.SeriesGroupBy object at 0x7f8ed922cfa0>>"
      ]
     },
     "execution_count": 30,
     "metadata": {},
     "output_type": "execute_result"
    }
   ],
   "source": [
    "# group by subject and by true score\n",
    "raw_df.groupby('subject')['true'].count"
   ]
  },
  {
   "cell_type": "code",
   "execution_count": 31,
   "id": "424bb630",
   "metadata": {},
   "outputs": [
    {
     "data": {
      "text/plain": [
       "<matplotlib.legend.Legend at 0x7f8ec5072d60>"
      ]
     },
     "execution_count": 31,
     "metadata": {},
     "output_type": "execute_result"
    },
    {
     "data": {
      "image/png": "[encoded data removed]",
      "text/plain": [
       "<Figure size 432x288 with 1 Axes>"
      ]
     },
     "metadata": {
      "needs_background": "light"
     },
     "output_type": "display_data"
    }
   ],
   "source": [
    "# plot the grouped with seaborn and matplotlib\n",
    "sns.histplot(raw_df, y='subject', hue ='true', \n",
    "           stat = 'percent', multiple = 'stack',\n",
    "           palette = 'coolwarm')\n",
    "plt.ylabel('Subject of News Source')\n",
    "plt.title('Breakdown of Fake Vs Real News in Dataset')\n",
    "plt.legend(title='News', loc='upper right', labels = ['Fake', 'Real'])"
   ]
  },
  {
   "cell_type": "markdown",
   "id": "713fb546",
   "metadata": {},
   "source": [
    "#### Let's change politicsNews to politics, News to worldnews and plot again\n",
    "#### This allows easier comparison of news subject for fake and real news "
   ]
  },
  {
   "cell_type": "code",
   "execution_count": 32,
   "id": "abe936d8",
   "metadata": {},
   "outputs": [
    {
     "data": {
      "text/plain": [
       "<matplotlib.legend.Legend at 0x7f8ec50800a0>"
      ]
     },
     "execution_count": 32,
     "metadata": {},
     "output_type": "execute_result"
    },
    {
     "data": {
      "image/png": "[encoded data removed]",
      "text/plain": [
       "<Figure size 432x288 with 1 Axes>"
      ]
     },
     "metadata": {
      "needs_background": "light"
     },
     "output_type": "display_data"
    }
   ],
   "source": [
    "raw_df['subject'].replace({'politicsNews':'politics', \n",
    "                           'News':'worldnews'}, inplace = True)\n",
    "\n",
    "sns.histplot(raw_df, y='subject', hue ='true', \n",
    "           stat = 'percent', multiple = 'stack',\n",
    "           palette = 'coolwarm')\n",
    "plt.ylabel('Subject of News Source')\n",
    "plt.title('Breakdown of Fake Vs Real News in Dataset')\n",
    "plt.legend(title='News', loc='lower right', labels = ['Fake', 'Real'])"
   ]
  },
  {
   "cell_type": "markdown",
   "id": "30fabb62",
   "metadata": {},
   "source": [
    "#### Let's make a word cloud of the text for quick comparison of article content before cleaning and processing. \n"
   ]
  },
  {
   "cell_type": "code",
   "execution_count": 33,
   "id": "eff7e933",
   "metadata": {},
   "outputs": [
    {
     "data": {
      "image/png": "[encoded data removed]",
      "text/plain": [
       "<Figure size 1080x432 with 2 Axes>"
      ]
     },
     "metadata": {
      "needs_background": "light"
     },
     "output_type": "display_data"
    }
   ],
   "source": [
    "fake_text = raw_df.text[raw_df['true']==0]\n",
    "real_text = raw_df.text[raw_df['true']==1]\n",
    "\n",
    "def plot_fake_vs_real(fake, real):\n",
    "    wordcloud_fake = WordCloud(width = 2000, height = 1300,\n",
    "                              background_color = 'white', \n",
    "                              stopwords = STOPWORDS).generate(str(fake))\n",
    "    wordcloud_real = WordCloud(width = 2000, height = 1300,\n",
    "                              background_color = 'white', \n",
    "                              stopwords = STOPWORDS).generate(str(real))\n",
    "    \n",
    "    # plot WordCloud img \n",
    "    plt.subplots(figsize=(15,6))\n",
    "    \n",
    "    plt.subplot(1,3,1)\n",
    "    plt.imshow(wordcloud_fake, interpolation = 'bilinear')\n",
    "    plt.axis('off')\n",
    "    plt.tight_layout(pad=0)\n",
    "    \n",
    "    plt.suptitle(\"Fake(left) vs Real(right)\", y=0.5, va='center', size = 24)\n",
    "    \n",
    "    plt.subplot(1,3,3)\n",
    "    plt.imshow(wordcloud_real, interpolation = 'bilinear')\n",
    "    plt.axis('off')\n",
    "    plt.tight_layout(pad=0)\n",
    "\n",
    "    \n",
    "plot_fake_vs_real(fake_text, real_text)\n",
    "plt.show()  \n",
    "\n",
    "    "
   ]
  },
  {
   "cell_type": "markdown",
   "id": "97db1eeb",
   "metadata": {},
   "source": [
    "#### Let's add a wordcloud of title words too, to show what words are used as click / read-bait"
   ]
  },
  {
   "cell_type": "code",
   "execution_count": 34,
   "id": "f73af3ab",
   "metadata": {},
   "outputs": [
    {
     "data": {
      "image/png": "[encoded data removed]",
      "text/plain": [
       "<Figure size 1080x432 with 2 Axes>"
      ]
     },
     "metadata": {
      "needs_background": "light"
     },
     "output_type": "display_data"
    }
   ],
   "source": [
    "fake_title = raw_df.title[raw_df['true']==0]\n",
    "real_title = raw_df.title[raw_df['true']==1]\n",
    "\n",
    "plot_fake_vs_real(fake_title, real_title)\n",
    "plt.show()"
   ]
  },
  {
   "cell_type": "markdown",
   "id": "027ee0b1",
   "metadata": {},
   "source": [
    "## Data Cleaning "
   ]
  },
  {
   "cell_type": "markdown",
   "id": "a2b2ed10",
   "metadata": {},
   "source": [
    "Df needs cleaning. Ultimate Goal is:  \n",
    "* Check for null values\n",
    "* check for empty spaces \n",
    "* check for nonsense texts \n",
    "* remove urls, https, special characters? \n",
    "* remove REUTERS()\n"
   ]
  },
  {
   "cell_type": "code",
   "execution_count": 35,
   "id": "9584d90b",
   "metadata": {},
   "outputs": [
    {
     "data": {
      "text/plain": [
       "(38647, 5)"
      ]
     },
     "execution_count": 35,
     "metadata": {},
     "output_type": "execute_result"
    }
   ],
   "source": [
    "# check raw_df starting point\n",
    "raw_df.shape"
   ]
  },
  {
   "cell_type": "code",
   "execution_count": 36,
   "id": "74441dca",
   "metadata": {},
   "outputs": [
    {
     "data": {
      "text/plain": [
       "title      0\n",
       "text       0\n",
       "subject    0\n",
       "date       0\n",
       "true       0\n",
       "dtype: int64"
      ]
     },
     "execution_count": 36,
     "metadata": {},
     "output_type": "execute_result"
    }
   ],
   "source": [
    "# check null values\n",
    "raw_df.isnull().sum()"
   ]
  },
  {
   "cell_type": "code",
   "execution_count": 37,
   "id": "47ecbfdc",
   "metadata": {},
   "outputs": [
    {
     "data": {
      "text/plain": [
       "(38647, 5)"
      ]
     },
     "execution_count": 37,
     "metadata": {},
     "output_type": "execute_result"
    }
   ],
   "source": [
    "# drop missing values\n",
    "\n",
    "raw_df = raw_df.dropna()\n",
    "raw_df.shape\n",
    "\n",
    "# Note, dropna() not picking up null values as still some text missing in DF. "
   ]
  },
  {
   "cell_type": "markdown",
   "id": "916bc38a",
   "metadata": {},
   "source": [
    "#### Below is initial code for removing publisher info (reuters), but since it uses '-' to seperate, it may target necessary hyphens in texts. Left out for more favourable option below "
   ]
  },
  {
   "cell_type": "code",
   "execution_count": 38,
   "id": "5931e369",
   "metadata": {},
   "outputs": [
    {
     "data": {
      "text/plain": [
       "' # Make [index] for rows that don\\'t have publication info (REUTERS)\\n# note: not all - are reuters, and may be in actual text\\n\\n\\nno_publisher = []\\nfor index, row in enumerate(raw_df.text.values):\\n    try:\\n        record = row.split(\" -\", maxsplit=1)\\n        \\n        # if no text present, this should raise error \\n        record[1]\\n        assert(len(record[0]) < 260)\\n    except:\\n        no_publisher.append(index)\\n        \\n\\n# check for the \\'clean\\' data, that doesn\\'t start with REUTERS\\n# note 23445 records\\n\\nraw_df.iloc[no_publisher].text\\n\\n\\n# create list of indexes for rows that have publication info (REUTERS)\\n# this will seperate the text from the publisher info (i.e seperate REUTERS())\\n\\npublisher = []\\npt_text=[]\\n\\nfor index, row in enumerate(raw_df.text.values):\\n    if index in no_publisher: \\n        \\n#         if no publisher mentioned, add unknown\\n        pt_text.append(row)\\n        publisher.append(\"Unknown\")\\n        continue \\n        \\n    record = row.split(\" -\", maxsplit=1)\\n    publisher.append(record[0])\\n    pt_text.append(record[1])\\n    \\n\\n# replace current text column with the new one made above \\n# add new seperate column for publisher info (i.e REUTERS())\\n\\nraw_df[\"publisher\"] = publisher \\nraw_df[\"text\"] = pt_text\\n\\ndel publisher, pt_text, record, no_publisher\\n\\n'"
      ]
     },
     "execution_count": 38,
     "metadata": {},
     "output_type": "execute_result"
    }
   ],
   "source": [
    "# Initial code for removing publisher info. \n",
    "\"\"\" # Make [index] for rows that don't have publication info (REUTERS)\n",
    "# note: not all - are reuters, and may be in actual text\n",
    "\n",
    "\n",
    "no_publisher = []\n",
    "for index, row in enumerate(raw_df.text.values):\n",
    "    try:\n",
    "        record = row.split(\" -\", maxsplit=1)\n",
    "        \n",
    "        # if no text present, this should raise error \n",
    "        record[1]\n",
    "        assert(len(record[0]) < 260)\n",
    "    except:\n",
    "        no_publisher.append(index)\n",
    "        \n",
    "\n",
    "# check for the 'clean' data, that doesn't start with REUTERS\n",
    "# note 23445 records\n",
    "\n",
    "raw_df.iloc[no_publisher].text\n",
    "\n",
    "\n",
    "# create list of indexes for rows that have publication info (REUTERS)\n",
    "# this will seperate the text from the publisher info (i.e seperate REUTERS())\n",
    "\n",
    "publisher = []\n",
    "pt_text=[]\n",
    "\n",
    "for index, row in enumerate(raw_df.text.values):\n",
    "    if index in no_publisher: \n",
    "        \n",
    "#         if no publisher mentioned, add unknown\n",
    "        pt_text.append(row)\n",
    "        publisher.append(\"Unknown\")\n",
    "        continue \n",
    "        \n",
    "    record = row.split(\" -\", maxsplit=1)\n",
    "    publisher.append(record[0])\n",
    "    pt_text.append(record[1])\n",
    "    \n",
    "\n",
    "# replace current text column with the new one made above \n",
    "# add new seperate column for publisher info (i.e REUTERS())\n",
    "\n",
    "raw_df[\"publisher\"] = publisher \n",
    "raw_df[\"text\"] = pt_text\n",
    "\n",
    "del publisher, pt_text, record, no_publisher\n",
    "\n",
    "\"\"\" "
   ]
  },
  {
   "cell_type": "code",
   "execution_count": 39,
   "id": "cf595b0a",
   "metadata": {},
   "outputs": [
    {
     "name": "stdout",
     "output_type": "stream",
     "text": [
      "\u001b[1m\u001b[34m21028 of 38647 samples have <City> (REUTERS) pattern.\u001b[0m\n"
     ]
    }
   ],
   "source": [
    "# how many have <CITY>(Reuters) pattern in text \n",
    "# pattern = 0+ uppercase letters, 0 or 1 spaces, (Reuters)\n",
    "\n",
    "pattern = r'[A-Z]* ?\\(Reuters\\)'\n",
    "\n",
    "test_df = raw_df['text'].copy().to_frame()\n",
    "test_df['patterns'] = test_df['text'].map(lambda x: len(re.findall(pattern, x)))\n",
    "\n",
    "result = f\"{test_df.groupby('patterns')['text'].count()[1]} of {raw_df.shape[0]} samples have <City> (REUTERS) pattern.\"\n",
    "print(colored(result, 'blue', attrs=['bold']))\n"
   ]
  },
  {
   "cell_type": "code",
   "execution_count": 40,
   "id": "a53c2e8e",
   "metadata": {},
   "outputs": [],
   "source": [
    "# remove pattern <CITY> (Reuters)\n",
    "\n",
    "raw_df['text'] = raw_df['text'].map(lambda x: re.sub(pattern, '', x))"
   ]
  },
  {
   "cell_type": "code",
   "execution_count": 41,
   "id": "d84447bd",
   "metadata": {},
   "outputs": [
    {
     "data": {
      "text/html": [
       "<div>\n",
       "<style scoped>\n",
       "    .dataframe tbody tr th:only-of-type {\n",
       "        vertical-align: middle;\n",
       "    }\n",
       "\n",
       "    .dataframe tbody tr th {\n",
       "        vertical-align: top;\n",
       "    }\n",
       "\n",
       "    .dataframe thead th {\n",
       "        text-align: right;\n",
       "    }\n",
       "</style>\n",
       "<table border=\"1\" class=\"dataframe\">\n",
       "  <thead>\n",
       "    <tr style=\"text-align: right;\">\n",
       "      <th></th>\n",
       "      <th>title</th>\n",
       "      <th>text</th>\n",
       "      <th>subject</th>\n",
       "      <th>date</th>\n",
       "      <th>true</th>\n",
       "    </tr>\n",
       "  </thead>\n",
       "  <tbody>\n",
       "    <tr>\n",
       "      <th>0</th>\n",
       "      <td>Donald Trump Sends Out Embarrassing New Year’...</td>\n",
       "      <td>Donald Trump just couldn t wish all Americans ...</td>\n",
       "      <td>worldnews</td>\n",
       "      <td>December 31, 2017</td>\n",
       "      <td>0</td>\n",
       "    </tr>\n",
       "    <tr>\n",
       "      <th>1</th>\n",
       "      <td>Drunk Bragging Trump Staffer Started Russian ...</td>\n",
       "      <td>House Intelligence Committee Chairman Devin Nu...</td>\n",
       "      <td>worldnews</td>\n",
       "      <td>December 31, 2017</td>\n",
       "      <td>0</td>\n",
       "    </tr>\n",
       "    <tr>\n",
       "      <th>2</th>\n",
       "      <td>Sheriff David Clarke Becomes An Internet Joke...</td>\n",
       "      <td>On Friday, it was revealed that former Milwauk...</td>\n",
       "      <td>worldnews</td>\n",
       "      <td>December 30, 2017</td>\n",
       "      <td>0</td>\n",
       "    </tr>\n",
       "    <tr>\n",
       "      <th>3</th>\n",
       "      <td>Trump Is So Obsessed He Even Has Obama’s Name...</td>\n",
       "      <td>On Christmas day, Donald Trump announced that ...</td>\n",
       "      <td>worldnews</td>\n",
       "      <td>December 29, 2017</td>\n",
       "      <td>0</td>\n",
       "    </tr>\n",
       "    <tr>\n",
       "      <th>4</th>\n",
       "      <td>Pope Francis Just Called Out Donald Trump Dur...</td>\n",
       "      <td>Pope Francis used his annual Christmas Day mes...</td>\n",
       "      <td>worldnews</td>\n",
       "      <td>December 25, 2017</td>\n",
       "      <td>0</td>\n",
       "    </tr>\n",
       "    <tr>\n",
       "      <th>5</th>\n",
       "      <td>Racist Alabama Cops Brutalize Black Boy While...</td>\n",
       "      <td>The number of cases of cops brutalizing and ki...</td>\n",
       "      <td>worldnews</td>\n",
       "      <td>December 25, 2017</td>\n",
       "      <td>0</td>\n",
       "    </tr>\n",
       "  </tbody>\n",
       "</table>\n",
       "</div>"
      ],
      "text/plain": [
       "                                               title  \\\n",
       "0   Donald Trump Sends Out Embarrassing New Year’...   \n",
       "1   Drunk Bragging Trump Staffer Started Russian ...   \n",
       "2   Sheriff David Clarke Becomes An Internet Joke...   \n",
       "3   Trump Is So Obsessed He Even Has Obama’s Name...   \n",
       "4   Pope Francis Just Called Out Donald Trump Dur...   \n",
       "5   Racist Alabama Cops Brutalize Black Boy While...   \n",
       "\n",
       "                                                text    subject  \\\n",
       "0  Donald Trump just couldn t wish all Americans ...  worldnews   \n",
       "1  House Intelligence Committee Chairman Devin Nu...  worldnews   \n",
       "2  On Friday, it was revealed that former Milwauk...  worldnews   \n",
       "3  On Christmas day, Donald Trump announced that ...  worldnews   \n",
       "4  Pope Francis used his annual Christmas Day mes...  worldnews   \n",
       "5  The number of cases of cops brutalizing and ki...  worldnews   \n",
       "\n",
       "                date  true  \n",
       "0  December 31, 2017     0  \n",
       "1  December 31, 2017     0  \n",
       "2  December 30, 2017     0  \n",
       "3  December 29, 2017     0  \n",
       "4  December 25, 2017     0  \n",
       "5  December 25, 2017     0  "
      ]
     },
     "execution_count": 41,
     "metadata": {},
     "output_type": "execute_result"
    }
   ],
   "source": [
    "raw_df.head(6)"
   ]
  },
  {
   "cell_type": "code",
   "execution_count": 42,
   "id": "1ebdfb51",
   "metadata": {},
   "outputs": [
    {
     "data": {
      "text/html": [
       "<div>\n",
       "<style scoped>\n",
       "    .dataframe tbody tr th:only-of-type {\n",
       "        vertical-align: middle;\n",
       "    }\n",
       "\n",
       "    .dataframe tbody tr th {\n",
       "        vertical-align: top;\n",
       "    }\n",
       "\n",
       "    .dataframe thead th {\n",
       "        text-align: right;\n",
       "    }\n",
       "</style>\n",
       "<table border=\"1\" class=\"dataframe\">\n",
       "  <thead>\n",
       "    <tr style=\"text-align: right;\">\n",
       "      <th></th>\n",
       "      <th>title</th>\n",
       "      <th>text</th>\n",
       "      <th>subject</th>\n",
       "      <th>date</th>\n",
       "      <th>true</th>\n",
       "    </tr>\n",
       "  </thead>\n",
       "  <tbody>\n",
       "    <tr>\n",
       "      <th>38641</th>\n",
       "      <td>North Korea shipments to Syria chemical arms a...</td>\n",
       "      <td>UNITED  - Two North Korean shipments to a Syri...</td>\n",
       "      <td>worldnews</td>\n",
       "      <td>August 21, 2017</td>\n",
       "      <td>1</td>\n",
       "    </tr>\n",
       "    <tr>\n",
       "      <th>38642</th>\n",
       "      <td>'Fully committed' NATO backs new U.S. approach...</td>\n",
       "      <td>- NATO allies on Tuesday welcomed President D...</td>\n",
       "      <td>worldnews</td>\n",
       "      <td>August 22, 2017</td>\n",
       "      <td>1</td>\n",
       "    </tr>\n",
       "    <tr>\n",
       "      <th>38643</th>\n",
       "      <td>LexisNexis withdrew two products from Chinese ...</td>\n",
       "      <td>- LexisNexis, a provider of legal, regulatory...</td>\n",
       "      <td>worldnews</td>\n",
       "      <td>August 22, 2017</td>\n",
       "      <td>1</td>\n",
       "    </tr>\n",
       "    <tr>\n",
       "      <th>38644</th>\n",
       "      <td>Minsk cultural hub becomes haven from authorities</td>\n",
       "      <td>- In the shadow of disused Soviet-era factori...</td>\n",
       "      <td>worldnews</td>\n",
       "      <td>August 22, 2017</td>\n",
       "      <td>1</td>\n",
       "    </tr>\n",
       "    <tr>\n",
       "      <th>38645</th>\n",
       "      <td>Vatican upbeat on possibility of Pope Francis ...</td>\n",
       "      <td>- Vatican Secretary of State Cardinal Pietro ...</td>\n",
       "      <td>worldnews</td>\n",
       "      <td>August 22, 2017</td>\n",
       "      <td>1</td>\n",
       "    </tr>\n",
       "    <tr>\n",
       "      <th>38646</th>\n",
       "      <td>Indonesia to buy $1.14 billion worth of Russia...</td>\n",
       "      <td>- Indonesia will buy 11 Sukhoi fighter jets w...</td>\n",
       "      <td>worldnews</td>\n",
       "      <td>August 22, 2017</td>\n",
       "      <td>1</td>\n",
       "    </tr>\n",
       "  </tbody>\n",
       "</table>\n",
       "</div>"
      ],
      "text/plain": [
       "                                                   title  \\\n",
       "38641  North Korea shipments to Syria chemical arms a...   \n",
       "38642  'Fully committed' NATO backs new U.S. approach...   \n",
       "38643  LexisNexis withdrew two products from Chinese ...   \n",
       "38644  Minsk cultural hub becomes haven from authorities   \n",
       "38645  Vatican upbeat on possibility of Pope Francis ...   \n",
       "38646  Indonesia to buy $1.14 billion worth of Russia...   \n",
       "\n",
       "                                                    text    subject  \\\n",
       "38641  UNITED  - Two North Korean shipments to a Syri...  worldnews   \n",
       "38642   - NATO allies on Tuesday welcomed President D...  worldnews   \n",
       "38643   - LexisNexis, a provider of legal, regulatory...  worldnews   \n",
       "38644   - In the shadow of disused Soviet-era factori...  worldnews   \n",
       "38645   - Vatican Secretary of State Cardinal Pietro ...  worldnews   \n",
       "38646   - Indonesia will buy 11 Sukhoi fighter jets w...  worldnews   \n",
       "\n",
       "                   date  true  \n",
       "38641  August 21, 2017      1  \n",
       "38642  August 22, 2017      1  \n",
       "38643  August 22, 2017      1  \n",
       "38644  August 22, 2017      1  \n",
       "38645  August 22, 2017      1  \n",
       "38646  August 22, 2017      1  "
      ]
     },
     "execution_count": 42,
     "metadata": {},
     "output_type": "execute_result"
    }
   ],
   "source": [
    "raw_df.tail(6)"
   ]
  },
  {
   "cell_type": "code",
   "execution_count": 43,
   "id": "87c7af0b",
   "metadata": {},
   "outputs": [
    {
     "name": "stderr",
     "output_type": "stream",
     "text": [
      "/var/folders/c3/v3dfqb6n50x96zb4934m6ky00000gn/T/ipykernel_16847/2623235650.py:1: DeprecationWarning: `np.object` is a deprecated alias for the builtin `object`. To silence this warning, use `object` by itself. Doing this will not modify any behavior and is safe. \n",
      "Deprecated in NumPy 1.20; for more details and guidance: https://numpy.org/devdocs/release/1.20.0-notes.html#deprecations\n",
      "  raw_df.describe(include=[np.object])\n"
     ]
    },
    {
     "data": {
      "text/html": [
       "<div>\n",
       "<style scoped>\n",
       "    .dataframe tbody tr th:only-of-type {\n",
       "        vertical-align: middle;\n",
       "    }\n",
       "\n",
       "    .dataframe tbody tr th {\n",
       "        vertical-align: top;\n",
       "    }\n",
       "\n",
       "    .dataframe thead th {\n",
       "        text-align: right;\n",
       "    }\n",
       "</style>\n",
       "<table border=\"1\" class=\"dataframe\">\n",
       "  <thead>\n",
       "    <tr style=\"text-align: right;\">\n",
       "      <th></th>\n",
       "      <th>title</th>\n",
       "      <th>text</th>\n",
       "      <th>subject</th>\n",
       "      <th>date</th>\n",
       "    </tr>\n",
       "  </thead>\n",
       "  <tbody>\n",
       "    <tr>\n",
       "      <th>count</th>\n",
       "      <td>38647</td>\n",
       "      <td>38647</td>\n",
       "      <td>38647</td>\n",
       "      <td>38647</td>\n",
       "    </tr>\n",
       "    <tr>\n",
       "      <th>unique</th>\n",
       "      <td>38271</td>\n",
       "      <td>38646</td>\n",
       "      <td>5</td>\n",
       "      <td>2397</td>\n",
       "    </tr>\n",
       "    <tr>\n",
       "      <th>top</th>\n",
       "      <td>Factbox: Trump fills top jobs for his administ...</td>\n",
       "      <td></td>\n",
       "      <td>worldnews</td>\n",
       "      <td>December 6, 2017</td>\n",
       "    </tr>\n",
       "    <tr>\n",
       "      <th>freq</th>\n",
       "      <td>14</td>\n",
       "      <td>2</td>\n",
       "      <td>19028</td>\n",
       "      <td>166</td>\n",
       "    </tr>\n",
       "  </tbody>\n",
       "</table>\n",
       "</div>"
      ],
      "text/plain": [
       "                                                    title   text    subject  \\\n",
       "count                                               38647  38647      38647   \n",
       "unique                                              38271  38646          5   \n",
       "top     Factbox: Trump fills top jobs for his administ...         worldnews   \n",
       "freq                                                   14      2      19028   \n",
       "\n",
       "                     date  \n",
       "count               38647  \n",
       "unique               2397  \n",
       "top     December 6, 2017   \n",
       "freq                  166  "
      ]
     },
     "execution_count": 43,
     "metadata": {},
     "output_type": "execute_result"
    }
   ],
   "source": [
    "raw_df.describe(include=[np.object])"
   ]
  },
  {
   "cell_type": "code",
   "execution_count": 44,
   "id": "cd4abe6f",
   "metadata": {},
   "outputs": [
    {
     "data": {
      "text/html": [
       "<div>\n",
       "<style scoped>\n",
       "    .dataframe tbody tr th:only-of-type {\n",
       "        vertical-align: middle;\n",
       "    }\n",
       "\n",
       "    .dataframe tbody tr th {\n",
       "        vertical-align: top;\n",
       "    }\n",
       "\n",
       "    .dataframe thead th {\n",
       "        text-align: right;\n",
       "    }\n",
       "</style>\n",
       "<table border=\"1\" class=\"dataframe\">\n",
       "  <thead>\n",
       "    <tr style=\"text-align: right;\">\n",
       "      <th></th>\n",
       "      <th>true</th>\n",
       "    </tr>\n",
       "  </thead>\n",
       "  <tbody>\n",
       "    <tr>\n",
       "      <th>count</th>\n",
       "      <td>38647.000000</td>\n",
       "    </tr>\n",
       "    <tr>\n",
       "      <th>mean</th>\n",
       "      <td>0.548348</td>\n",
       "    </tr>\n",
       "    <tr>\n",
       "      <th>std</th>\n",
       "      <td>0.497663</td>\n",
       "    </tr>\n",
       "    <tr>\n",
       "      <th>min</th>\n",
       "      <td>0.000000</td>\n",
       "    </tr>\n",
       "    <tr>\n",
       "      <th>25%</th>\n",
       "      <td>0.000000</td>\n",
       "    </tr>\n",
       "    <tr>\n",
       "      <th>50%</th>\n",
       "      <td>1.000000</td>\n",
       "    </tr>\n",
       "    <tr>\n",
       "      <th>75%</th>\n",
       "      <td>1.000000</td>\n",
       "    </tr>\n",
       "    <tr>\n",
       "      <th>max</th>\n",
       "      <td>1.000000</td>\n",
       "    </tr>\n",
       "  </tbody>\n",
       "</table>\n",
       "</div>"
      ],
      "text/plain": [
       "               true\n",
       "count  38647.000000\n",
       "mean       0.548348\n",
       "std        0.497663\n",
       "min        0.000000\n",
       "25%        0.000000\n",
       "50%        1.000000\n",
       "75%        1.000000\n",
       "max        1.000000"
      ]
     },
     "execution_count": 44,
     "metadata": {},
     "output_type": "execute_result"
    }
   ],
   "source": [
    "raw_df.describe(include=[np.number])"
   ]
  },
  {
   "cell_type": "code",
   "execution_count": 45,
   "id": "b26a0739",
   "metadata": {},
   "outputs": [
    {
     "data": {
      "text/html": [
       "<div>\n",
       "<style scoped>\n",
       "    .dataframe tbody tr th:only-of-type {\n",
       "        vertical-align: middle;\n",
       "    }\n",
       "\n",
       "    .dataframe tbody tr th {\n",
       "        vertical-align: top;\n",
       "    }\n",
       "\n",
       "    .dataframe thead th {\n",
       "        text-align: right;\n",
       "    }\n",
       "</style>\n",
       "<table border=\"1\" class=\"dataframe\">\n",
       "  <thead>\n",
       "    <tr style=\"text-align: right;\">\n",
       "      <th></th>\n",
       "      <th>title</th>\n",
       "      <th>text</th>\n",
       "      <th>subject</th>\n",
       "      <th>date</th>\n",
       "      <th>true</th>\n",
       "    </tr>\n",
       "  </thead>\n",
       "  <tbody>\n",
       "    <tr>\n",
       "      <th>count</th>\n",
       "      <td>38647</td>\n",
       "      <td>38647</td>\n",
       "      <td>38647</td>\n",
       "      <td>38647</td>\n",
       "      <td>38647.000000</td>\n",
       "    </tr>\n",
       "    <tr>\n",
       "      <th>unique</th>\n",
       "      <td>38271</td>\n",
       "      <td>38646</td>\n",
       "      <td>5</td>\n",
       "      <td>2397</td>\n",
       "      <td>NaN</td>\n",
       "    </tr>\n",
       "    <tr>\n",
       "      <th>top</th>\n",
       "      <td>Factbox: Trump fills top jobs for his administ...</td>\n",
       "      <td></td>\n",
       "      <td>worldnews</td>\n",
       "      <td>December 6, 2017</td>\n",
       "      <td>NaN</td>\n",
       "    </tr>\n",
       "    <tr>\n",
       "      <th>freq</th>\n",
       "      <td>14</td>\n",
       "      <td>2</td>\n",
       "      <td>19028</td>\n",
       "      <td>166</td>\n",
       "      <td>NaN</td>\n",
       "    </tr>\n",
       "    <tr>\n",
       "      <th>mean</th>\n",
       "      <td>NaN</td>\n",
       "      <td>NaN</td>\n",
       "      <td>NaN</td>\n",
       "      <td>NaN</td>\n",
       "      <td>0.548348</td>\n",
       "    </tr>\n",
       "    <tr>\n",
       "      <th>std</th>\n",
       "      <td>NaN</td>\n",
       "      <td>NaN</td>\n",
       "      <td>NaN</td>\n",
       "      <td>NaN</td>\n",
       "      <td>0.497663</td>\n",
       "    </tr>\n",
       "    <tr>\n",
       "      <th>min</th>\n",
       "      <td>NaN</td>\n",
       "      <td>NaN</td>\n",
       "      <td>NaN</td>\n",
       "      <td>NaN</td>\n",
       "      <td>0.000000</td>\n",
       "    </tr>\n",
       "    <tr>\n",
       "      <th>25%</th>\n",
       "      <td>NaN</td>\n",
       "      <td>NaN</td>\n",
       "      <td>NaN</td>\n",
       "      <td>NaN</td>\n",
       "      <td>0.000000</td>\n",
       "    </tr>\n",
       "    <tr>\n",
       "      <th>50%</th>\n",
       "      <td>NaN</td>\n",
       "      <td>NaN</td>\n",
       "      <td>NaN</td>\n",
       "      <td>NaN</td>\n",
       "      <td>1.000000</td>\n",
       "    </tr>\n",
       "    <tr>\n",
       "      <th>75%</th>\n",
       "      <td>NaN</td>\n",
       "      <td>NaN</td>\n",
       "      <td>NaN</td>\n",
       "      <td>NaN</td>\n",
       "      <td>1.000000</td>\n",
       "    </tr>\n",
       "    <tr>\n",
       "      <th>max</th>\n",
       "      <td>NaN</td>\n",
       "      <td>NaN</td>\n",
       "      <td>NaN</td>\n",
       "      <td>NaN</td>\n",
       "      <td>1.000000</td>\n",
       "    </tr>\n",
       "  </tbody>\n",
       "</table>\n",
       "</div>"
      ],
      "text/plain": [
       "                                                    title   text    subject  \\\n",
       "count                                               38647  38647      38647   \n",
       "unique                                              38271  38646          5   \n",
       "top     Factbox: Trump fills top jobs for his administ...         worldnews   \n",
       "freq                                                   14      2      19028   \n",
       "mean                                                  NaN    NaN        NaN   \n",
       "std                                                   NaN    NaN        NaN   \n",
       "min                                                   NaN    NaN        NaN   \n",
       "25%                                                   NaN    NaN        NaN   \n",
       "50%                                                   NaN    NaN        NaN   \n",
       "75%                                                   NaN    NaN        NaN   \n",
       "max                                                   NaN    NaN        NaN   \n",
       "\n",
       "                     date          true  \n",
       "count               38647  38647.000000  \n",
       "unique               2397           NaN  \n",
       "top     December 6, 2017            NaN  \n",
       "freq                  166           NaN  \n",
       "mean                  NaN      0.548348  \n",
       "std                   NaN      0.497663  \n",
       "min                   NaN      0.000000  \n",
       "25%                   NaN      0.000000  \n",
       "50%                   NaN      1.000000  \n",
       "75%                   NaN      1.000000  \n",
       "max                   NaN      1.000000  "
      ]
     },
     "execution_count": 45,
     "metadata": {},
     "output_type": "execute_result"
    }
   ],
   "source": [
    "raw_df.describe(include='all')"
   ]
  },
  {
   "cell_type": "code",
   "execution_count": 48,
   "id": "a5d353ab",
   "metadata": {},
   "outputs": [
    {
     "data": {
      "text/plain": [
       "                                                                                                                                                                                                                                                                                                                                                                                                                                                                                                                                                                                                                                                                                                                                                                                                                                                                                                                                                                                                                                                                                                                                                                                                                                                                                                                                                                                                                                                                                                                                                                                                                                                                                                                                                                                                                                                                                                                                                                                                                                                                                                                                                                                                                                                                                                                                                                                                                                                                                                                                                                                                                                                                                                                                                                                                                                                                                                                                                                                                                                                                                                                                                                                                                                                                                                                                                                                                                                                                                                                                                                                                                                                                                                                                                                                                                                                                                                                                                                                                                                                                                                                                                                                                                                                                                                                                                                                                                                                                                                                                                                                                                                                                                                                                                                                                                                                                                                                                                                                                                                                                                                                                             2\n",
       "Donald Trump just couldn t wish all Americans a Happy New Year and leave it at that. Instead, he had to give a shout out to his enemies, haters and  the very dishonest fake news media.  The former reality show star had just one job to do and he couldn t do it. As our Country rapidly grows stronger and smarter, I want to wish all of my friends, supporters, enemies, haters, and even the very dishonest Fake News Media, a Happy and Healthy New Year,  President Angry Pants tweeted.  2018 will be a great year for America! As our Country rapidly grows stronger and smarter, I want to wish all of my friends, supporters, enemies, haters, and even the very dishonest Fake News Media, a Happy and Healthy New Year. 2018 will be a great year for America!  Donald J. Trump (@realDonaldTrump) December 31, 2017Trump s tweet went down about as welll as you d expect.What kind of president sends a New Year s greeting like this despicable, petty, infantile gibberish? Only Trump! His lack of decency won t even allow him to rise above the gutter long enough to wish the American citizens a happy new year!  Bishop Talbert Swan (@TalbertSwan) December 31, 2017no one likes you  Calvin (@calvinstowell) December 31, 2017Your impeachment would make 2018 a great year for America, but I ll also accept regaining control of Congress.  Miranda Yaver (@mirandayaver) December 31, 2017Do you hear yourself talk? When you have to include that many people that hate you you have to wonder? Why do the they all hate me?  Alan Sandoval (@AlanSandoval13) December 31, 2017Who uses the word Haters in a New Years wish??  Marlene (@marlene399) December 31, 2017You can t just say happy new year?  Koren pollitt (@Korencarpenter) December 31, 2017Here s Trump s New Year s Eve tweet from 2016.Happy New Year to all, including to my many enemies and those who have fought me and lost so badly they just don t know what to do. Love!  Donald J. Trump (@realDonaldTrump) December 31, 2016This is nothing new for Trump. He s been doing this for years.Trump has directed messages to his  enemies  and  haters  for New Year s, Easter, Thanksgiving, and the anniversary of 9/11. pic.twitter.com/4FPAe2KypA  Daniel Dale (@ddale8) December 31, 2017Trump s holiday tweets are clearly not presidential.How long did he work at Hallmark before becoming President?  Steven Goodine (@SGoodine) December 31, 2017He s always been like this . . . the only difference is that in the last few years, his filter has been breaking down.  Roy Schulze (@thbthttt) December 31, 2017Who, apart from a teenager uses the term haters?  Wendy (@WendyWhistles) December 31, 2017he s a fucking 5 year old  Who Knows (@rainyday80) December 31, 2017So, to all the people who voted for this a hole thinking he would change once he got into power, you were wrong! 70-year-old men don t change and now he s a year older.Photo by Andrew Burton/Getty Images.                                                                                                                                                                                                                                                                                                                                                                                                                                                                                                                                                                                                                                                                                                                                                                                                                                                                                                                                                                                                                                                                                                                                                                                                                                                                                                                                                                                                                                                                                                                                                                                                                                                                                                                                                                                                                                                                                                                                                                                                                                                                                                                                1\n",
       " - A former top adviser to President Barack Obama on Sunday labeled Donald Trump a “psychopath”, saying the Republican presidential nominee met the clinical definition of the personality disorder. With a little more than two months to go before the Nov. 8 U.S. election, the comments by David Plouffe, a former senior adviser to President Barack Obama and manager of his 2008 presidential campaign, mark another escalation in a series of blows exchanged between Trump’s camp and that of his Democrat rival Hillary Clinton. “Basically, you have a psychopath running for president. I mean, he meets the clinical definition,” Plouffe said in an interview on NBC’s “Meet the Press”. When challenged, Plouffe acknowledged he had no degree in psychology but rattled off what he said were the New York businessman’s symptoms: “grandiose notion of self-worth; pathological lying; lack of empathy and remorse.” The Trump campaign did not immediately respond to a request for comment. Last week, Clinton accused Trump of fueling America’s “radical fringe” with racist rhetoric, while Trump said Clinton was letting down black Americans with failed policies and called her a “bigot who sees people of color only as votes, not as human beings.” Obama has also lambasted Trump, saying of him: “Somebody who makes those kinds of statements doesn’t have the judgment, the temperament, the understanding to occupy the most powerful position in the world.”                                                                                                                                                                                                                                                                                                                                                                                                                                                                                                                                                                                                                                                                                                                                                                                                                                                                                                                                                                                                                                                                                                                                                                                                                                                                                                                                                                                                                                                                                                                                                                                                                                                                                                                                                                                                                                                                                                                                                                                                                                                                                                                                                                                                                                                                                                                                                                                                                                                                                                                                                                                                                                                                                                                                                                                                                                                                                                                                                                                                                                                                                                                                                                                                                                                                                                                                                                                                                                                                                                                                                                                                                                              1\n",
       " - When President Barack Obama sets out this week to meet world leaders in China and Laos during his final presidential trip to Asia, he will make an unusual stop along the way. With time running out for more action on climate change during his time in office, Obama will drop in to Midway Atoll, a far-flung and largely uninhabited coral reef that is a refuge for sharks, albatrosses and endangered turtles and seals. The photo-rich stop is aimed at both raising awareness about the threat posed by climate change, and showcasing Obama’s decision to protect a larger part of the ocean around Hawaii. But the trip to the middle of the Pacific Ocean will also highlight the high stakes of climate change just before Obama meets world leaders in China. “I think it’s going to be an amazing sequence, and one that really matters,” said Doug McCauley, a conservation biologist from University of California, Santa Barbara. “Suddenly, you’re sitting in a room with the leaders who will decide what the fate of that place is going to be,” McCauley said. The rare trip is both a signal of the importance Obama gives to climate change - and a sign of his focus in bliateral meetings with Chinese President Xi Jinping. The two leaders have clashed on economic and security issues, but forged common ground on climate, which helped secure a global deal to cut carbon emissions at a Paris conference last year. “We have to recognize that climate change and clean energy cooperation has really helped to create better overall stability in the U.S.-China relationship, writ large,” said Andrew Light, a former senior climate official in Obama’s State Department. Light, now with the World Resources Institute think tank, said he expects Xi and Obama will try to push other G20 leaders to agree to timelines for implementing the Paris agreement and work on cutting other greenhouse gases like methane and hydrofluorocarbons. Any progress on climate issues could be a rare bright spot in a trip otherwise dominated by concerns about the international economy, anti-globalization sentiments and global security problems. With less than five months left in the White House, Obama is racing to cement his record through actions he can take without help from the gridlocked U.S. Congress. For example, at Obama’s final meeting with his Canadian and Mexican counterparts, the leaders set new goals for clean energy production. Republicans in Congress have thwarted Obama’s legislative efforts on climate, and mocked him for his focus on an issue they see as less pressing than the economy and defense. Obama also has faced criticism from environmental groups for not doing more to limit U.S. oil and gas production. “If we’re going address the climate crisis or meet our climate commitments, the vast, vast majority of fossil fuels need to remain in the ground,” said Brendan Cummings, conservation director with the Center for Biological Diversity. But former Environmental Protection Agency director Carol Browner said Obama has done what he could on climate both through leadership on the international stage, and by using existing laws to kick-start the clean energy sector and cut emissions from vehicles and power plants. “Nobody should ever be disappointed with this president on climate change,” said Browner, who led the White House climate push in Obama’s first term.                                                                                                                                                                                                                                                                                                                                                                                                                                                                                                                                                                                                                                                                                                                                                                                                                                                                                                                                                                                                                                                                                                                                                                                                                                                                                                                                                                                                                                                                                                                                                                                                                                                1\n",
       "LAS  - Outside political money is pouring into a race in Nevada to replace U.S. Democratic Senator Harry Reid, who is retiring and who told Reuters that the main reason his favored successor isn’t winning easily is cash from beyond the state’s borders. In a race that underscores the rise of outside money in U.S. campaign finance, as well as a key demographic challenge facing the Republican Party, Catherine Cortez Masto and Joe Heck are in a dead heat to replace the Senate’s No. 1 Democrat. Democrat Cortez Masto, 52, was a two-term Nevada attorney general. If she wins, she will be the first Latina elected to the U.S Senate. Republican Heck, 54, is a three-term House of Representatives member, physician and U.S. Army Reserve general. Polls show a tight race, with the two tied at 37 percent of likely voters in a mid-August Suffolk University survey.  The seat they are contesting is the only one in the Senate this year that Republicans have a truly good chance of flipping to their control from the Democrats. Doing so would shield Republicans’ Senate majority, which is under threat elsewhere. Saying in an interview that Heck’s campaign is fueled by outside money, Reid, a former boxer, lashed out at the Koch brothers, the U.S. Chamber of Commerce and Karl Rove. “The Chamber of Commerce is nothing more than a front anymore for the Koch brothers. Karl Rove, he doesn’t raise that money. He just goes to the Koch brothers. They’re all fronts for the Koch brothers,” said Reid, 76. “Catherine’s going to win. And if the Koch brothers weren’t involved, she’d win by 15 points,” Reid said. Charles and David Koch are wealthy industrialists who spend millions of dollars supporting libertarian-leaning candidates, mostly Republicans, through a network of groups, some operating under a law that lets them keep their donors’ identities secret. Reid, who now walks with a cane and often appears in dark sunglasses, has long warred with the Kochs. “We’ve certainly seen our fair share of criticism from Senator Reid. But we want to talk about the issues and he moves toward the politics of personal attacks,” said James Davis, spokesman for the Koch-aligned Freedom Partners Action Fund. The Supreme Court, in its 2010 Citizens United decision, opened the door to a tidal wave of political spending by corporations and labor unions on political causes and candidates, reshaping U.S. campaign finance.  More than 20 political groups, including two Koch-aligned organizations and the Reid-aligned Senate Majority PAC, have poured well over $20 million into the Nevada Senate race so far, according to the Center for Responsive Politics, which tracks campaign spending. Overall, the spending favors Heck over Cortez Masto by nearly 2-to-1. Freedom Partners and another Koch-aligned group, Concerned Veterans for America, have spent nearly $6 million, mostly on ads portraying Cortez Masto as captive to special interests.  Rove, formerly an adviser to Republican President George W. Bush, is now a Republican activist. He co-founded Republican Super PAC American Crossroads. Spokesman Ian Prior called Reid’s accusations about Rove and the Kochs “funny.” Prior said, “Look, if Harry Reid is looking for a bogeyman to star in his dark fantasy movie, he should just cast himself.” The U.S. Chamber of Commerce is the largest lobbying group for corporations in Washington and closely aligned with the Republican Party. On Reid’s allegations that it is a front for the Kochs, Chamber spokesman Blair Latoff Holmes said, “This is not true, but it’s certainly not the first time Senator Reid has made unsubstantiated allegations.” Nevada’s biggest city is Las Vegas and nearly three-quarters of the state’s population lives in or near the casino capital. Nevada reflects the United States’ growing racial diversity. In 1970, Nevadans were 87 percent white and 6 percent Latino; by 2010, that ratio was 54 percent white and 26 percent Latino. Heck, who is white, has managed to get elected to Congress from an ethnically diverse congressional district split evenly between Republicans and Democrats. But Democrats have a 72,000-vote registration advantage over Republicans in Nevada and Latinos helped elect President Barack Obama in 2008 and 2012. Republican presidential nominee Donald Trump has angered many Latinos with his vow to build a wall on the Mexican border and to deport undocumented aliens. Heck has endorsed Trump. While Trump’s popularity has crumbled in some other states, he has stayed within 2 percentage points of Democratic presidential nominee Hillary Clinton in Nevada. Cortez Masto has been keen to link Heck to Trump. She said in an interview that Heck has followed Trump’s example of “mud-slinging, dirty campaigning.” Heck spokesman Brian Baluta said Cortez Masto has distorted  Heck’s record. “She talks about Joe more than she talks about herself and it’s always in the most vile and negative way,” Baluta said.     1\n",
       "                                                                                                                                                                                                                                                                                                                                                                                                                                                                                                                                                                                                                                                                                                                                                                                                                                                                                                                                                                                                                                                                                                                                                                                                                                                                                                                                                                                                                                                                                                                                                                                                                                                                                                                                                                                                                                                                                                                                                                                                                                                                                                                                                                                                                                                                                                                                                                                                                                                                                                                                                                                                                                                                                                                                                                                                                                                                                                                                                                                                                                                                                                                                                                                                                                                                                                                                                                                                                                                                                                                                                                                                                                                                                                                                                                                                                                                                                                                                                                                                                                                                                                                                                                                                                                                                                                                                                                                                                                                                                                                                                                                                                                                                                                                                                                                                                                                                                                                                                                                                                                                                                                                                            ..\n",
       "The number of Muslim registered voters is up 324,000 since the last Presidential election. As our State Department continues to seed small and large communities across America, expect to see more and more of these results. Speaking of America, does anyone see an American flag anywhere in the room during Ilhan Omar s acceptance speech in her native language? Does the idea of Sharia Law still seem like a far-fetched idea in America? Political jobs held by two veteran Democratic politicians have been outsourced to two young immigrants, underscoring the growing impact of mass immigration on white-collar Americans. The two Democrats who have lost their jobs to immigrants are both experienced, established and liberal members of the state s version of the Democratic party: 22-term Rep. Phyllis Kahn and 10-term Rep. Joe Mullery, both from Minneapolis.They were beaten in state primaries on August 9 by two political newcomers: Somali-born, hijab-wearing Ilhan Omar and Thailand-born Hmong immigrant, Fue Lee. The primaries were arranged by the state s Democratic Farmer Labor Party.Ilhan Omar s website attributed her win to immigrant Somalis:  More than 250 volunteers and 450 individual donors supported Ilhan s campaign.  I am so proud that the majority of contributions to my campaign are from members of the Somali community who believe in my leadership,  the site said. Somalis in other states supported her, including Washington state and Ohio.Kahn was actually beaten by two Somalis Omar and Mohamud Noor. She had only 1,726 votes to Omar s 2,404 votes. The second Somali candidate, Noor, edged Kahn with 1,738 votes. Compared to 2014, primary turnout rose by almost 40 percent in the 60B district, which includes most of the University of Minnesota.                                                                                                                                                                                                                                                                                                                                                                                                                                                                                                                                                                                                                                                                                                                                                                                                                                                                                                                                                                                                                                                                                                                                                                                                                                                                                                                                                                                                                                                                                                                                                                                                                                                                                                                                                                                                                                                                                                                                                                                                                                                                                                                                                                                                                                                                                                                                                                                                                                                                                                                                                                                                                                                                                                                                                                                                                                                                                                                                                                                                                                                                                                                                                                                                                                                                                                           1\n",
       "CJ Pierson is such a great kid! he s sending message to all the Never Trump crowd to think of their children and grandchildren in the coming election VOTE TRUMP!                                                                                                                                                                                                                                                                                                                                                                                                                                                                                                                                                                                                                                                                                                                                                                                                                                                                                                                                                                                                                                                                                                                                                                                                                                                                                                                                                                                                                                                                                                                                                                                                                                                                                                                                                                                                                                                                                                                                                                                                                                                                                                                                                                                                                                                                                                                                                                                                                                                                                                                                                                                                                                                                                                                                                                                                                                                                                                                                                                                                                                                                                                                                                                                                                                                                                                                                                                                                                                                                                                                                                                                                                                                                                                                                                                                                                                                                                                                                                                                                                                                                                                                                                                                                                                                                                                                                                                                                                                                                                                                                                                                                                                                                                                                                                                                                                                                                                                                                                                            1\n",
       "Oh boy! This is getting good! Bill Clinton is now accusing the FBI of serving up a  load of bull  in the comments about the investigation into Hillary s e-mails. How idiotic is it to publicly slam the FBI? I guess  Slick Willy  isn t so slick anymore. all we have to say about this is KEEP ON TALKIN  SLICK WILLY!Bill Clinton is accusing the FBI director of serving up  the biggest load of bull I ve ever heard    marking the first significant public comments from the husband of the Democratic nominee on the scandal that s plagued his wife s campaign for over a year. First of all, the FBI director said, when he testified before Congress, he had to amend his previous day s statement that she had never received any emails marked classified,  Clinton told journalists at an Asian American Journalists Association meeting in Las Vegas on Friday, making a strong defense for Hillary Clinton.He added,  They saw two little notes with a  C  on it   this is the biggest load of bull I ve ever heard   that were about telephone calls that she needed to make. The State Department typically puts a little  C  on it to discourage people from discussing it in public in the event the secretary of state, whoever it is, doesn t make a telephone call. Does that sound threatening to the national security to you? VIA: NYP                                                                                                                                                                                                                                                                                                                                                                                                                                                                                                                                                                                                                                                                                                                                                                                                                                                                                                                                                                                                                                                                                                                                                                                                                                                                                                                                                                                                                                                                                                                                                                                                                                                                                                                                                                                                                                                                                                                                                                                                                                                                                                                                                                                                                                                                                                                                                                                                                                                                                                                                                                                                                                                                                                                                                                                                                                                                                                                                                                                                                                                                                                                                                                                                                                                                                                                                                                                                                                                                                                                                                                                                                                                                                                                                                                            1\n",
       "At about the 7:30 mark you  ll hear The Black Eyed Peas song playing to get Bill clinton off of the stage. What a boring speaker he s become. could someone explain what has happened to his voice?                                                                                                                                                                                                                                                                                                                                                                                                                                                                                                                                                                                                                                                                                                                                                                                                                                                                                                                                                                                                                                                                                                                                                                                                                                                                                                                                                                                                                                                                                                                                                                                                                                                                                                                                                                                                                                                                                                                                                                                                                                                                                                                                                                                                                                                                                                                                                                                                                                                                                                                                                                                                                                                                                                                                                                                                                                                                                                                                                                                                                                                                                                                                                                                                                                                                                                                                                                                                                                                                                                                                                                                                                                                                                                                                                                                                                                                                                                                                                                                                                                                                                                                                                                                                                                                                                                                                                                                                                                                                                                                                                                                                                                                                                                                                                                                                                                                                                                                                          1\n",
       " - Indonesia will buy 11 Sukhoi fighter jets worth $1.14 billion from Russia in exchange for cash and Indonesian commodities, two cabinet ministers said on Tuesday. The Southeast Asian country has pledged to ship up to $570 million worth of commodities in addition to cash to pay for the Suhkoi SU-35 fighter jets, which are expected to be delivered in stages starting in two years. Indonesian Trade Minister Enggartiasto Lukita said in a joint statement with Defence Minister Ryamizard Ryacudu that details of the type and volume of commodities were  still being negotiated . Previously he had said the exports could include palm oil, tea, and coffee. The deal is expected to be finalised soon between Indonesian state trading company PT Perusahaan Perdangangan Indonesia and Russian state conglomerate Rostec. Russia is currently facing a new round of U.S.-imposed trade sanctions. Meanwhile, Southeast Asia s largest economy is trying to promote its palm oil products amid threats of a cut in consumption by European Union countries. Indonesia is also trying to modernize its ageing air force after a string of military aviation accidents. Indonesia, which had a $411 million trade surplus with Russia in 2016, wants to expand bilateral cooperation in tourism, education, energy, technology and aviation among others.                                                                                                                                                                                                                                                                                                                                                                                                                                                                                                                                                                                                                                                                                                                                                                                                                                                                                                                                                                                                                                                                                                                                                                                                                                                                                                                                                                                                                                                                                                                                                                                                                                                                                                                                                                                                                                                                                                                                                                                                                                                                                                                                                                                                                                                                                                                                                                                                                                                                                                                                                                                                                                                                                                                                                                                                                                                                                                                                                                                                                                                                                                                                                                                                                                                                                                                                                                                                                                                                                                                                                                                                                                                                                                                                                                     1\n",
       "Name: text, Length: 38646, dtype: int64"
      ]
     },
     "execution_count": 48,
     "metadata": {},
     "output_type": "execute_result"
    }
   ],
   "source": [
    "raw_df.text.value_counts()"
   ]
  },
  {
   "cell_type": "raw",
   "id": "e233f579",
   "metadata": {},
   "source": []
  },
  {
   "cell_type": "code",
   "execution_count": 44,
   "id": "4558bc8a",
   "metadata": {},
   "outputs": [
    {
     "data": {
      "text/html": [
       "<div>\n",
       "<style scoped>\n",
       "    .dataframe tbody tr th:only-of-type {\n",
       "        vertical-align: middle;\n",
       "    }\n",
       "\n",
       "    .dataframe tbody tr th {\n",
       "        vertical-align: top;\n",
       "    }\n",
       "\n",
       "    .dataframe thead th {\n",
       "        text-align: right;\n",
       "    }\n",
       "</style>\n",
       "<table border=\"1\" class=\"dataframe\">\n",
       "  <thead>\n",
       "    <tr style=\"text-align: right;\">\n",
       "      <th></th>\n",
       "      <th>title</th>\n",
       "      <th>text</th>\n",
       "      <th>subject</th>\n",
       "      <th>date</th>\n",
       "      <th>true</th>\n",
       "    </tr>\n",
       "  </thead>\n",
       "  <tbody>\n",
       "    <tr>\n",
       "      <th>10920</th>\n",
       "      <td>TAKE OUR POLL: Who Do You Think President Trum...</td>\n",
       "      <td></td>\n",
       "      <td>politics</td>\n",
       "      <td>May 10, 2017</td>\n",
       "      <td>0</td>\n",
       "    </tr>\n",
       "    <tr>\n",
       "      <th>12032</th>\n",
       "      <td>TRUMP SLAMS THE GLOBALISTS: “There is no globa...</td>\n",
       "      <td></td>\n",
       "      <td>politics</td>\n",
       "      <td>Dec 1, 2016</td>\n",
       "      <td>0</td>\n",
       "    </tr>\n",
       "    <tr>\n",
       "      <th>26375</th>\n",
       "      <td>Graphic: Supreme Court roundup</td>\n",
       "      <td></td>\n",
       "      <td>politics</td>\n",
       "      <td>June 16, 2016</td>\n",
       "      <td>1</td>\n",
       "    </tr>\n",
       "  </tbody>\n",
       "</table>\n",
       "</div>"
      ],
      "text/plain": [
       "                                                   title text   subject  \\\n",
       "10920  TAKE OUR POLL: Who Do You Think President Trum...       politics   \n",
       "12032  TRUMP SLAMS THE GLOBALISTS: “There is no globa...       politics   \n",
       "26375                     Graphic: Supreme Court roundup       politics   \n",
       "\n",
       "                 date  true  \n",
       "10920    May 10, 2017     0  \n",
       "12032     Dec 1, 2016     0  \n",
       "26375  June 16, 2016      1  "
      ]
     },
     "execution_count": 44,
     "metadata": {},
     "output_type": "execute_result"
    }
   ],
   "source": [
    "# Check for empty rows \n",
    "\n",
    "raw_df[raw_df['text'].str.strip()=='']"
   ]
  },
  {
   "cell_type": "code",
   "execution_count": 45,
   "id": "2db72d76",
   "metadata": {},
   "outputs": [
    {
     "data": {
      "text/plain": [
       "(38644, 5)"
      ]
     },
     "execution_count": 45,
     "metadata": {},
     "output_type": "execute_result"
    }
   ],
   "source": [
    "# drop the above empty rows \n",
    "\n",
    "raw_df = raw_df[raw_df['text'].str.strip()!='']\n",
    "raw_df.shape"
   ]
  },
  {
   "cell_type": "markdown",
   "id": "152b23a4",
   "metadata": {},
   "source": [
    "### Run below just to double check no empty once more "
   ]
  },
  {
   "cell_type": "code",
   "execution_count": 46,
   "id": "d8a7f9ec",
   "metadata": {},
   "outputs": [
    {
     "name": "stdout",
     "output_type": "stream",
     "text": [
      "Number of empty rows: 0\n"
     ]
    },
    {
     "data": {
      "text/html": [
       "<div>\n",
       "<style scoped>\n",
       "    .dataframe tbody tr th:only-of-type {\n",
       "        vertical-align: middle;\n",
       "    }\n",
       "\n",
       "    .dataframe tbody tr th {\n",
       "        vertical-align: top;\n",
       "    }\n",
       "\n",
       "    .dataframe thead th {\n",
       "        text-align: right;\n",
       "    }\n",
       "</style>\n",
       "<table border=\"1\" class=\"dataframe\">\n",
       "  <thead>\n",
       "    <tr style=\"text-align: right;\">\n",
       "      <th></th>\n",
       "      <th>title</th>\n",
       "      <th>text</th>\n",
       "      <th>subject</th>\n",
       "      <th>date</th>\n",
       "      <th>true</th>\n",
       "    </tr>\n",
       "  </thead>\n",
       "  <tbody>\n",
       "  </tbody>\n",
       "</table>\n",
       "</div>"
      ],
      "text/plain": [
       "Empty DataFrame\n",
       "Columns: [title, text, subject, date, true]\n",
       "Index: []"
      ]
     },
     "execution_count": 46,
     "metadata": {},
     "output_type": "execute_result"
    }
   ],
   "source": [
    "# check for empty rows and list them\n",
    "#  note 631 empty values \n",
    "\n",
    "empty = [index for index, text in enumerate(raw_df.text.values) if str(text).strip()=='']\n",
    "print(f\"Number of empty rows: {len(empty)}\")\n",
    "raw_df.iloc[empty].tail()"
   ]
  },
  {
   "cell_type": "markdown",
   "id": "f90f0c41",
   "metadata": {},
   "source": [
    "#### Confirm dropped unecessary rows. "
   ]
  },
  {
   "cell_type": "code",
   "execution_count": 47,
   "id": "fdc5f9a7",
   "metadata": {},
   "outputs": [
    {
     "data": {
      "text/plain": [
       "0        True\n",
       "1        True\n",
       "2        True\n",
       "3        True\n",
       "4        True\n",
       "         ... \n",
       "38642    True\n",
       "38643    True\n",
       "38644    True\n",
       "38645    True\n",
       "38646    True\n",
       "Name: text, Length: 38644, dtype: bool"
      ]
     },
     "execution_count": 47,
     "metadata": {},
     "output_type": "execute_result"
    }
   ],
   "source": [
    "# text has bool true so should return false if empty \n",
    "# just another way to check for null values \n",
    "# note DF length matches above with 38644 rows\n",
    "\n",
    "raw_df['text'].astype(bool)"
   ]
  },
  {
   "cell_type": "markdown",
   "id": "25f1089c",
   "metadata": {},
   "source": [
    "### Expand into day, month, year"
   ]
  },
  {
   "cell_type": "code",
   "execution_count": 48,
   "id": "0eb87ed9",
   "metadata": {},
   "outputs": [
    {
     "data": {
      "text/html": [
       "<div>\n",
       "<style scoped>\n",
       "    .dataframe tbody tr th:only-of-type {\n",
       "        vertical-align: middle;\n",
       "    }\n",
       "\n",
       "    .dataframe tbody tr th {\n",
       "        vertical-align: top;\n",
       "    }\n",
       "\n",
       "    .dataframe thead th {\n",
       "        text-align: right;\n",
       "    }\n",
       "</style>\n",
       "<table border=\"1\" class=\"dataframe\">\n",
       "  <thead>\n",
       "    <tr style=\"text-align: right;\">\n",
       "      <th></th>\n",
       "      <th>title</th>\n",
       "      <th>text</th>\n",
       "      <th>subject</th>\n",
       "      <th>date</th>\n",
       "      <th>true</th>\n",
       "      <th>Date</th>\n",
       "    </tr>\n",
       "  </thead>\n",
       "  <tbody>\n",
       "    <tr>\n",
       "      <th>24973</th>\n",
       "      <td>Clinton leading Trump by 2 points in McClatchy...</td>\n",
       "      <td>- Democratic presidential candidate Hillary C...</td>\n",
       "      <td>politics</td>\n",
       "      <td>November 4, 2016</td>\n",
       "      <td>1</td>\n",
       "      <td>2016-11-04</td>\n",
       "    </tr>\n",
       "    <tr>\n",
       "      <th>14533</th>\n",
       "      <td>No Joke! Hillary Clinton Tries To Censor Laugh...</td>\n",
       "      <td>And this woman wants to be in charge of Americ...</td>\n",
       "      <td>politics</td>\n",
       "      <td>Nov 18, 2015</td>\n",
       "      <td>0</td>\n",
       "      <td>2015-11-18</td>\n",
       "    </tr>\n",
       "    <tr>\n",
       "      <th>37818</th>\n",
       "      <td>Trump speaks with leaders of Saudi Arabia, UAE...</td>\n",
       "      <td>- U.S. President Donald Trump spoke separatel...</td>\n",
       "      <td>worldnews</td>\n",
       "      <td>September 8, 2017</td>\n",
       "      <td>1</td>\n",
       "      <td>2017-09-08</td>\n",
       "    </tr>\n",
       "    <tr>\n",
       "      <th>3807</th>\n",
       "      <td>Actress Emmy Rossum Fires Back At Trump Fans ...</td>\n",
       "      <td>Donald Trump s hateful, divisive rhetoric brou...</td>\n",
       "      <td>worldnews</td>\n",
       "      <td>November 14, 2016</td>\n",
       "      <td>0</td>\n",
       "      <td>2016-11-14</td>\n",
       "    </tr>\n",
       "    <tr>\n",
       "      <th>11418</th>\n",
       "      <td>WAKE-UP CALL! IRANIAN REFUGEE Warns The West: ...</td>\n",
       "      <td>I m a political refugee from Iran. I ve been ...</td>\n",
       "      <td>politics</td>\n",
       "      <td>Mar 5, 2017</td>\n",
       "      <td>0</td>\n",
       "      <td>2017-03-05</td>\n",
       "    </tr>\n",
       "  </tbody>\n",
       "</table>\n",
       "</div>"
      ],
      "text/plain": [
       "                                                   title  \\\n",
       "24973  Clinton leading Trump by 2 points in McClatchy...   \n",
       "14533  No Joke! Hillary Clinton Tries To Censor Laugh...   \n",
       "37818  Trump speaks with leaders of Saudi Arabia, UAE...   \n",
       "3807    Actress Emmy Rossum Fires Back At Trump Fans ...   \n",
       "11418  WAKE-UP CALL! IRANIAN REFUGEE Warns The West: ...   \n",
       "\n",
       "                                                    text    subject  \\\n",
       "24973   - Democratic presidential candidate Hillary C...   politics   \n",
       "14533  And this woman wants to be in charge of Americ...   politics   \n",
       "37818   - U.S. President Donald Trump spoke separatel...  worldnews   \n",
       "3807   Donald Trump s hateful, divisive rhetoric brou...  worldnews   \n",
       "11418   I m a political refugee from Iran. I ve been ...   politics   \n",
       "\n",
       "                     date  true       Date  \n",
       "24973   November 4, 2016      1 2016-11-04  \n",
       "14533        Nov 18, 2015     0 2015-11-18  \n",
       "37818  September 8, 2017      1 2017-09-08  \n",
       "3807    November 14, 2016     0 2016-11-14  \n",
       "11418         Mar 5, 2017     0 2017-03-05  "
      ]
     },
     "execution_count": 48,
     "metadata": {},
     "output_type": "execute_result"
    }
   ],
   "source": [
    "# date -> datetime\n",
    "\n",
    "def get_day_mon_yr(date):\n",
    "    try: \n",
    "        return pd.to_datetime(date, infer_datetime_format = True)\n",
    "    except:\n",
    "        return np.nan\n",
    "    \n",
    "raw_df['Date'] = raw_df.apply(lambda row: get_day_mon_yr(row['date']), axis = 1)\n",
    "raw_df.sample(5)"
   ]
  },
  {
   "cell_type": "code",
   "execution_count": 49,
   "id": "3a343b51",
   "metadata": {},
   "outputs": [
    {
     "data": {
      "text/plain": [
       "title      0\n",
       "text       0\n",
       "subject    0\n",
       "date       0\n",
       "true       0\n",
       "Date       6\n",
       "dtype: int64"
      ]
     },
     "execution_count": 49,
     "metadata": {},
     "output_type": "execute_result"
    }
   ],
   "source": [
    "# check null values (none expected)\n",
    "\n",
    "raw_df.isnull().sum()"
   ]
  },
  {
   "cell_type": "code",
   "execution_count": 50,
   "id": "458cd3f7",
   "metadata": {},
   "outputs": [
    {
     "data": {
      "text/html": [
       "<div>\n",
       "<style scoped>\n",
       "    .dataframe tbody tr th:only-of-type {\n",
       "        vertical-align: middle;\n",
       "    }\n",
       "\n",
       "    .dataframe tbody tr th {\n",
       "        vertical-align: top;\n",
       "    }\n",
       "\n",
       "    .dataframe thead th {\n",
       "        text-align: right;\n",
       "    }\n",
       "</style>\n",
       "<table border=\"1\" class=\"dataframe\">\n",
       "  <thead>\n",
       "    <tr style=\"text-align: right;\">\n",
       "      <th></th>\n",
       "      <th>title</th>\n",
       "      <th>text</th>\n",
       "      <th>subject</th>\n",
       "      <th>date</th>\n",
       "      <th>true</th>\n",
       "      <th>Date</th>\n",
       "    </tr>\n",
       "  </thead>\n",
       "  <tbody>\n",
       "    <tr>\n",
       "      <th>9357</th>\n",
       "      <td>https://100percentfedup.com/served-roy-moore-v...</td>\n",
       "      <td>https://100percentfedup.com/served-roy-moore-v...</td>\n",
       "      <td>politics</td>\n",
       "      <td>https://100percentfedup.com/served-roy-moore-v...</td>\n",
       "      <td>0</td>\n",
       "      <td>NaT</td>\n",
       "    </tr>\n",
       "    <tr>\n",
       "      <th>15121</th>\n",
       "      <td>https://100percentfedup.com/video-hillary-aske...</td>\n",
       "      <td>https://100percentfedup.com/video-hillary-aske...</td>\n",
       "      <td>politics</td>\n",
       "      <td>https://100percentfedup.com/video-hillary-aske...</td>\n",
       "      <td>0</td>\n",
       "      <td>NaT</td>\n",
       "    </tr>\n",
       "    <tr>\n",
       "      <th>15122</th>\n",
       "      <td>https://100percentfedup.com/12-yr-old-black-co...</td>\n",
       "      <td>https://100percentfedup.com/12-yr-old-black-co...</td>\n",
       "      <td>politics</td>\n",
       "      <td>https://100percentfedup.com/12-yr-old-black-co...</td>\n",
       "      <td>0</td>\n",
       "      <td>NaT</td>\n",
       "    </tr>\n",
       "    <tr>\n",
       "      <th>15424</th>\n",
       "      <td>https://fedup.wpengine.com/wp-content/uploads/...</td>\n",
       "      <td>https://fedup.wpengine.com/wp-content/uploads/...</td>\n",
       "      <td>politics</td>\n",
       "      <td>https://fedup.wpengine.com/wp-content/uploads/...</td>\n",
       "      <td>0</td>\n",
       "      <td>NaT</td>\n",
       "    </tr>\n",
       "    <tr>\n",
       "      <th>15425</th>\n",
       "      <td>https://fedup.wpengine.com/wp-content/uploads/...</td>\n",
       "      <td>https://fedup.wpengine.com/wp-content/uploads/...</td>\n",
       "      <td>politics</td>\n",
       "      <td>https://fedup.wpengine.com/wp-content/uploads/...</td>\n",
       "      <td>0</td>\n",
       "      <td>NaT</td>\n",
       "    </tr>\n",
       "    <tr>\n",
       "      <th>16128</th>\n",
       "      <td>Homepage</td>\n",
       "      <td>[vc_row][vc_column width= 1/1 ][td_block_trend...</td>\n",
       "      <td>left-news</td>\n",
       "      <td>MSNBC HOST Rudely Assumes Steel Worker Would N...</td>\n",
       "      <td>0</td>\n",
       "      <td>NaT</td>\n",
       "    </tr>\n",
       "  </tbody>\n",
       "</table>\n",
       "</div>"
      ],
      "text/plain": [
       "                                                   title  \\\n",
       "9357   https://100percentfedup.com/served-roy-moore-v...   \n",
       "15121  https://100percentfedup.com/video-hillary-aske...   \n",
       "15122  https://100percentfedup.com/12-yr-old-black-co...   \n",
       "15424  https://fedup.wpengine.com/wp-content/uploads/...   \n",
       "15425  https://fedup.wpengine.com/wp-content/uploads/...   \n",
       "16128                                           Homepage   \n",
       "\n",
       "                                                    text    subject  \\\n",
       "9357   https://100percentfedup.com/served-roy-moore-v...   politics   \n",
       "15121  https://100percentfedup.com/video-hillary-aske...   politics   \n",
       "15122  https://100percentfedup.com/12-yr-old-black-co...   politics   \n",
       "15424  https://fedup.wpengine.com/wp-content/uploads/...   politics   \n",
       "15425  https://fedup.wpengine.com/wp-content/uploads/...   politics   \n",
       "16128  [vc_row][vc_column width= 1/1 ][td_block_trend...  left-news   \n",
       "\n",
       "                                                    date  true Date  \n",
       "9357   https://100percentfedup.com/served-roy-moore-v...     0  NaT  \n",
       "15121  https://100percentfedup.com/video-hillary-aske...     0  NaT  \n",
       "15122  https://100percentfedup.com/12-yr-old-black-co...     0  NaT  \n",
       "15424  https://fedup.wpengine.com/wp-content/uploads/...     0  NaT  \n",
       "15425  https://fedup.wpengine.com/wp-content/uploads/...     0  NaT  \n",
       "16128  MSNBC HOST Rudely Assumes Steel Worker Would N...     0  NaT  "
      ]
     },
     "execution_count": 50,
     "metadata": {},
     "output_type": "execute_result"
    }
   ],
   "source": [
    "# check where Date is NaN\n",
    "# DO this for text column too and check frequency in descibe all \n",
    "\n",
    "raw_df[raw_df['Date'].isna()]"
   ]
  },
  {
   "cell_type": "code",
   "execution_count": 51,
   "id": "42461180",
   "metadata": {},
   "outputs": [
    {
     "data": {
      "text/plain": [
       "(38644, 6)"
      ]
     },
     "execution_count": 51,
     "metadata": {},
     "output_type": "execute_result"
    }
   ],
   "source": [
    "raw_df.shape"
   ]
  },
  {
   "cell_type": "code",
   "execution_count": 52,
   "id": "eca650f1",
   "metadata": {},
   "outputs": [
    {
     "name": "stdout",
     "output_type": "stream",
     "text": [
      "(38638, 6)\n"
     ]
    },
    {
     "data": {
      "text/html": [
       "<div>\n",
       "<style scoped>\n",
       "    .dataframe tbody tr th:only-of-type {\n",
       "        vertical-align: middle;\n",
       "    }\n",
       "\n",
       "    .dataframe tbody tr th {\n",
       "        vertical-align: top;\n",
       "    }\n",
       "\n",
       "    .dataframe thead th {\n",
       "        text-align: right;\n",
       "    }\n",
       "</style>\n",
       "<table border=\"1\" class=\"dataframe\">\n",
       "  <thead>\n",
       "    <tr style=\"text-align: right;\">\n",
       "      <th></th>\n",
       "      <th>title</th>\n",
       "      <th>text</th>\n",
       "      <th>subject</th>\n",
       "      <th>date</th>\n",
       "      <th>true</th>\n",
       "      <th>Date</th>\n",
       "    </tr>\n",
       "  </thead>\n",
       "  <tbody>\n",
       "    <tr>\n",
       "      <th>3334</th>\n",
       "      <td>Trump Responds To Berlin Truck Attack With DA...</td>\n",
       "      <td>Donald Trump turned a tragedy into an opportun...</td>\n",
       "      <td>worldnews</td>\n",
       "      <td>December 20, 2016</td>\n",
       "      <td>0</td>\n",
       "      <td>2016-12-20</td>\n",
       "    </tr>\n",
       "    <tr>\n",
       "      <th>37633</th>\n",
       "      <td>Russia, Jordan agree to speed de-escalation zo...</td>\n",
       "      <td>- Jordan said on Monday it was working with R...</td>\n",
       "      <td>worldnews</td>\n",
       "      <td>September 11, 2017</td>\n",
       "      <td>1</td>\n",
       "      <td>2017-09-11</td>\n",
       "    </tr>\n",
       "    <tr>\n",
       "      <th>30666</th>\n",
       "      <td>Ireland says wants 'agreed wording' on Brexit ...</td>\n",
       "      <td>- Ireland wants re-assurance from Britain the...</td>\n",
       "      <td>worldnews</td>\n",
       "      <td>December 1, 2017</td>\n",
       "      <td>1</td>\n",
       "      <td>2017-12-01</td>\n",
       "    </tr>\n",
       "    <tr>\n",
       "      <th>25725</th>\n",
       "      <td>Virginia Republicans seek to block governor's ...</td>\n",
       "      <td>- Virginia Republican leaders said they will ...</td>\n",
       "      <td>politics</td>\n",
       "      <td>August 31, 2016</td>\n",
       "      <td>1</td>\n",
       "      <td>2016-08-31</td>\n",
       "    </tr>\n",
       "    <tr>\n",
       "      <th>22528</th>\n",
       "      <td>Corker, critic of first Trump travel ban order...</td>\n",
       "      <td>- The U.S. Senate Foreign Relations Committee...</td>\n",
       "      <td>politics</td>\n",
       "      <td>March 6, 2017</td>\n",
       "      <td>1</td>\n",
       "      <td>2017-03-06</td>\n",
       "    </tr>\n",
       "  </tbody>\n",
       "</table>\n",
       "</div>"
      ],
      "text/plain": [
       "                                                   title  \\\n",
       "3334    Trump Responds To Berlin Truck Attack With DA...   \n",
       "37633  Russia, Jordan agree to speed de-escalation zo...   \n",
       "30666  Ireland says wants 'agreed wording' on Brexit ...   \n",
       "25725  Virginia Republicans seek to block governor's ...   \n",
       "22528  Corker, critic of first Trump travel ban order...   \n",
       "\n",
       "                                                    text    subject  \\\n",
       "3334   Donald Trump turned a tragedy into an opportun...  worldnews   \n",
       "37633   - Jordan said on Monday it was working with R...  worldnews   \n",
       "30666   - Ireland wants re-assurance from Britain the...  worldnews   \n",
       "25725   - Virginia Republican leaders said they will ...   politics   \n",
       "22528   - The U.S. Senate Foreign Relations Committee...   politics   \n",
       "\n",
       "                      date  true       Date  \n",
       "3334     December 20, 2016     0 2016-12-20  \n",
       "37633  September 11, 2017      1 2017-09-11  \n",
       "30666    December 1, 2017      1 2017-12-01  \n",
       "25725     August 31, 2016      1 2016-08-31  \n",
       "22528       March 6, 2017      1 2017-03-06  "
      ]
     },
     "execution_count": 52,
     "metadata": {},
     "output_type": "execute_result"
    }
   ],
   "source": [
    "# drop the NaN values \n",
    "\n",
    "raw_df.dropna(inplace=True)\n",
    "print(raw_df.shape)\n",
    "raw_df.sample(5)"
   ]
  },
  {
   "cell_type": "code",
   "execution_count": 53,
   "id": "3667191c",
   "metadata": {},
   "outputs": [
    {
     "data": {
      "text/html": [
       "<div>\n",
       "<style scoped>\n",
       "    .dataframe tbody tr th:only-of-type {\n",
       "        vertical-align: middle;\n",
       "    }\n",
       "\n",
       "    .dataframe tbody tr th {\n",
       "        vertical-align: top;\n",
       "    }\n",
       "\n",
       "    .dataframe thead th {\n",
       "        text-align: right;\n",
       "    }\n",
       "</style>\n",
       "<table border=\"1\" class=\"dataframe\">\n",
       "  <thead>\n",
       "    <tr style=\"text-align: right;\">\n",
       "      <th></th>\n",
       "      <th>title</th>\n",
       "      <th>text</th>\n",
       "      <th>subject</th>\n",
       "      <th>date</th>\n",
       "      <th>true</th>\n",
       "      <th>Date</th>\n",
       "    </tr>\n",
       "  </thead>\n",
       "  <tbody>\n",
       "    <tr>\n",
       "      <th>0</th>\n",
       "      <td>Donald Trump Sends Out Embarrassing New Year’...</td>\n",
       "      <td>Donald Trump just couldn t wish all Americans ...</td>\n",
       "      <td>worldnews</td>\n",
       "      <td>December 31, 2017</td>\n",
       "      <td>0</td>\n",
       "      <td>2017-12-31</td>\n",
       "    </tr>\n",
       "    <tr>\n",
       "      <th>1</th>\n",
       "      <td>Drunk Bragging Trump Staffer Started Russian ...</td>\n",
       "      <td>House Intelligence Committee Chairman Devin Nu...</td>\n",
       "      <td>worldnews</td>\n",
       "      <td>December 31, 2017</td>\n",
       "      <td>0</td>\n",
       "      <td>2017-12-31</td>\n",
       "    </tr>\n",
       "    <tr>\n",
       "      <th>2</th>\n",
       "      <td>Sheriff David Clarke Becomes An Internet Joke...</td>\n",
       "      <td>On Friday, it was revealed that former Milwauk...</td>\n",
       "      <td>worldnews</td>\n",
       "      <td>December 30, 2017</td>\n",
       "      <td>0</td>\n",
       "      <td>2017-12-30</td>\n",
       "    </tr>\n",
       "    <tr>\n",
       "      <th>3</th>\n",
       "      <td>Trump Is So Obsessed He Even Has Obama’s Name...</td>\n",
       "      <td>On Christmas day, Donald Trump announced that ...</td>\n",
       "      <td>worldnews</td>\n",
       "      <td>December 29, 2017</td>\n",
       "      <td>0</td>\n",
       "      <td>2017-12-29</td>\n",
       "    </tr>\n",
       "    <tr>\n",
       "      <th>4</th>\n",
       "      <td>Pope Francis Just Called Out Donald Trump Dur...</td>\n",
       "      <td>Pope Francis used his annual Christmas Day mes...</td>\n",
       "      <td>worldnews</td>\n",
       "      <td>December 25, 2017</td>\n",
       "      <td>0</td>\n",
       "      <td>2017-12-25</td>\n",
       "    </tr>\n",
       "    <tr>\n",
       "      <th>...</th>\n",
       "      <td>...</td>\n",
       "      <td>...</td>\n",
       "      <td>...</td>\n",
       "      <td>...</td>\n",
       "      <td>...</td>\n",
       "      <td>...</td>\n",
       "    </tr>\n",
       "    <tr>\n",
       "      <th>38642</th>\n",
       "      <td>'Fully committed' NATO backs new U.S. approach...</td>\n",
       "      <td>- NATO allies on Tuesday welcomed President D...</td>\n",
       "      <td>worldnews</td>\n",
       "      <td>August 22, 2017</td>\n",
       "      <td>1</td>\n",
       "      <td>2017-08-22</td>\n",
       "    </tr>\n",
       "    <tr>\n",
       "      <th>38643</th>\n",
       "      <td>LexisNexis withdrew two products from Chinese ...</td>\n",
       "      <td>- LexisNexis, a provider of legal, regulatory...</td>\n",
       "      <td>worldnews</td>\n",
       "      <td>August 22, 2017</td>\n",
       "      <td>1</td>\n",
       "      <td>2017-08-22</td>\n",
       "    </tr>\n",
       "    <tr>\n",
       "      <th>38644</th>\n",
       "      <td>Minsk cultural hub becomes haven from authorities</td>\n",
       "      <td>- In the shadow of disused Soviet-era factori...</td>\n",
       "      <td>worldnews</td>\n",
       "      <td>August 22, 2017</td>\n",
       "      <td>1</td>\n",
       "      <td>2017-08-22</td>\n",
       "    </tr>\n",
       "    <tr>\n",
       "      <th>38645</th>\n",
       "      <td>Vatican upbeat on possibility of Pope Francis ...</td>\n",
       "      <td>- Vatican Secretary of State Cardinal Pietro ...</td>\n",
       "      <td>worldnews</td>\n",
       "      <td>August 22, 2017</td>\n",
       "      <td>1</td>\n",
       "      <td>2017-08-22</td>\n",
       "    </tr>\n",
       "    <tr>\n",
       "      <th>38646</th>\n",
       "      <td>Indonesia to buy $1.14 billion worth of Russia...</td>\n",
       "      <td>- Indonesia will buy 11 Sukhoi fighter jets w...</td>\n",
       "      <td>worldnews</td>\n",
       "      <td>August 22, 2017</td>\n",
       "      <td>1</td>\n",
       "      <td>2017-08-22</td>\n",
       "    </tr>\n",
       "  </tbody>\n",
       "</table>\n",
       "<p>38638 rows × 6 columns</p>\n",
       "</div>"
      ],
      "text/plain": [
       "                                                   title  \\\n",
       "0       Donald Trump Sends Out Embarrassing New Year’...   \n",
       "1       Drunk Bragging Trump Staffer Started Russian ...   \n",
       "2       Sheriff David Clarke Becomes An Internet Joke...   \n",
       "3       Trump Is So Obsessed He Even Has Obama’s Name...   \n",
       "4       Pope Francis Just Called Out Donald Trump Dur...   \n",
       "...                                                  ...   \n",
       "38642  'Fully committed' NATO backs new U.S. approach...   \n",
       "38643  LexisNexis withdrew two products from Chinese ...   \n",
       "38644  Minsk cultural hub becomes haven from authorities   \n",
       "38645  Vatican upbeat on possibility of Pope Francis ...   \n",
       "38646  Indonesia to buy $1.14 billion worth of Russia...   \n",
       "\n",
       "                                                    text    subject  \\\n",
       "0      Donald Trump just couldn t wish all Americans ...  worldnews   \n",
       "1      House Intelligence Committee Chairman Devin Nu...  worldnews   \n",
       "2      On Friday, it was revealed that former Milwauk...  worldnews   \n",
       "3      On Christmas day, Donald Trump announced that ...  worldnews   \n",
       "4      Pope Francis used his annual Christmas Day mes...  worldnews   \n",
       "...                                                  ...        ...   \n",
       "38642   - NATO allies on Tuesday welcomed President D...  worldnews   \n",
       "38643   - LexisNexis, a provider of legal, regulatory...  worldnews   \n",
       "38644   - In the shadow of disused Soviet-era factori...  worldnews   \n",
       "38645   - Vatican Secretary of State Cardinal Pietro ...  worldnews   \n",
       "38646   - Indonesia will buy 11 Sukhoi fighter jets w...  worldnews   \n",
       "\n",
       "                    date  true       Date  \n",
       "0      December 31, 2017     0 2017-12-31  \n",
       "1      December 31, 2017     0 2017-12-31  \n",
       "2      December 30, 2017     0 2017-12-30  \n",
       "3      December 29, 2017     0 2017-12-29  \n",
       "4      December 25, 2017     0 2017-12-25  \n",
       "...                  ...   ...        ...  \n",
       "38642   August 22, 2017      1 2017-08-22  \n",
       "38643   August 22, 2017      1 2017-08-22  \n",
       "38644   August 22, 2017      1 2017-08-22  \n",
       "38645   August 22, 2017      1 2017-08-22  \n",
       "38646   August 22, 2017      1 2017-08-22  \n",
       "\n",
       "[38638 rows x 6 columns]"
      ]
     },
     "execution_count": 53,
     "metadata": {},
     "output_type": "execute_result"
    }
   ],
   "source": [
    "# check where date is NOT NaN\n",
    "# note: matches df shape above \n",
    "\n",
    "raw_df[raw_df['Date'].notna()]"
   ]
  },
  {
   "cell_type": "code",
   "execution_count": 54,
   "id": "e3d8975f",
   "metadata": {},
   "outputs": [
    {
     "data": {
      "text/html": [
       "<div>\n",
       "<style scoped>\n",
       "    .dataframe tbody tr th:only-of-type {\n",
       "        vertical-align: middle;\n",
       "    }\n",
       "\n",
       "    .dataframe tbody tr th {\n",
       "        vertical-align: top;\n",
       "    }\n",
       "\n",
       "    .dataframe thead th {\n",
       "        text-align: right;\n",
       "    }\n",
       "</style>\n",
       "<table border=\"1\" class=\"dataframe\">\n",
       "  <thead>\n",
       "    <tr style=\"text-align: right;\">\n",
       "      <th></th>\n",
       "      <th>title</th>\n",
       "      <th>text</th>\n",
       "      <th>subject</th>\n",
       "      <th>true</th>\n",
       "      <th>day</th>\n",
       "      <th>month</th>\n",
       "      <th>year</th>\n",
       "    </tr>\n",
       "  </thead>\n",
       "  <tbody>\n",
       "    <tr>\n",
       "      <th>29456</th>\n",
       "      <td>Sports sector wins reprieve in EU copyright re...</td>\n",
       "      <td>- Soccer leagues such as England s Premier Le...</td>\n",
       "      <td>worldnews</td>\n",
       "      <td>1</td>\n",
       "      <td>15</td>\n",
       "      <td>12</td>\n",
       "      <td>2017</td>\n",
       "    </tr>\n",
       "    <tr>\n",
       "      <th>13321</th>\n",
       "      <td>BREAKING: FL MUSLIM TERRORIST Worked For Secur...</td>\n",
       "      <td>As a side note, the illegal aliens who are bei...</td>\n",
       "      <td>politics</td>\n",
       "      <td>0</td>\n",
       "      <td>13</td>\n",
       "      <td>6</td>\n",
       "      <td>2016</td>\n",
       "    </tr>\n",
       "    <tr>\n",
       "      <th>35755</th>\n",
       "      <td>Deadly twin suicide attack hits Damascus polic...</td>\n",
       "      <td>- Two suicide bombers struck a police station...</td>\n",
       "      <td>worldnews</td>\n",
       "      <td>1</td>\n",
       "      <td>2</td>\n",
       "      <td>10</td>\n",
       "      <td>2017</td>\n",
       "    </tr>\n",
       "  </tbody>\n",
       "</table>\n",
       "</div>"
      ],
      "text/plain": [
       "                                                   title  \\\n",
       "29456  Sports sector wins reprieve in EU copyright re...   \n",
       "13321  BREAKING: FL MUSLIM TERRORIST Worked For Secur...   \n",
       "35755  Deadly twin suicide attack hits Damascus polic...   \n",
       "\n",
       "                                                    text    subject  true  \\\n",
       "29456   - Soccer leagues such as England s Premier Le...  worldnews     1   \n",
       "13321  As a side note, the illegal aliens who are bei...   politics     0   \n",
       "35755   - Two suicide bombers struck a police station...  worldnews     1   \n",
       "\n",
       "       day  month  year  \n",
       "29456   15     12  2017  \n",
       "13321   13      6  2016  \n",
       "35755    2     10  2017  "
      ]
     },
     "execution_count": 54,
     "metadata": {},
     "output_type": "execute_result"
    }
   ],
   "source": [
    "# Add cols for day, month, year \n",
    "\n",
    "raw_df['day']= raw_df.apply(lambda row: row['Date'].day, axis=1)\n",
    "raw_df['month']= raw_df.apply(lambda row: row['Date'].month, axis =1)\n",
    "raw_df['year']= raw_df.apply(lambda row: row['Date'].year, axis = 1)\n",
    "\n",
    "# drop redundant date cols\n",
    "raw_df.drop(['date','Date'], axis=1, inplace=True)\n",
    "raw_df.sample(3)"
   ]
  },
  {
   "cell_type": "markdown",
   "id": "3414fc81",
   "metadata": {},
   "source": [
    "#### Let's plot the correlation between date and target "
   ]
  },
  {
   "cell_type": "code",
   "execution_count": 55,
   "id": "922c3d27",
   "metadata": {},
   "outputs": [
    {
     "data": {
      "image/png": "[encoded data removed]",
      "text/plain": [
       "<Figure size 432x288 with 2 Axes>"
      ]
     },
     "metadata": {
      "needs_background": "light"
     },
     "output_type": "display_data"
    }
   ],
   "source": [
    "sns.heatmap(raw_df[['day', 'month', 'year', 'true']].corr(), annot=True)\n",
    "sns.set(rc={'figure.figsize':(10,6)})\n"
   ]
  },
  {
   "cell_type": "markdown",
   "id": "cee12916",
   "metadata": {},
   "source": [
    "### Unique chars in text "
   ]
  },
  {
   "cell_type": "markdown",
   "id": "8778cc1a",
   "metadata": {},
   "source": [
    "#### Let's plot the length of unique characters in the text, and 'true-value'"
   ]
  },
  {
   "cell_type": "code",
   "execution_count": 56,
   "id": "829afe5c",
   "metadata": {},
   "outputs": [
    {
     "data": {
      "text/html": [
       "<div>\n",
       "<style scoped>\n",
       "    .dataframe tbody tr th:only-of-type {\n",
       "        vertical-align: middle;\n",
       "    }\n",
       "\n",
       "    .dataframe tbody tr th {\n",
       "        vertical-align: top;\n",
       "    }\n",
       "\n",
       "    .dataframe thead th {\n",
       "        text-align: right;\n",
       "    }\n",
       "</style>\n",
       "<table border=\"1\" class=\"dataframe\">\n",
       "  <thead>\n",
       "    <tr style=\"text-align: right;\">\n",
       "      <th></th>\n",
       "      <th>text</th>\n",
       "      <th>true</th>\n",
       "      <th>unique_char</th>\n",
       "    </tr>\n",
       "  </thead>\n",
       "  <tbody>\n",
       "    <tr>\n",
       "      <th>0</th>\n",
       "      <td>Donald Trump just couldn t wish all Americans ...</td>\n",
       "      <td>0</td>\n",
       "      <td>25</td>\n",
       "    </tr>\n",
       "    <tr>\n",
       "      <th>1</th>\n",
       "      <td>House Intelligence Committee Chairman Devin Nu...</td>\n",
       "      <td>0</td>\n",
       "      <td>24</td>\n",
       "    </tr>\n",
       "    <tr>\n",
       "      <th>2</th>\n",
       "      <td>On Friday, it was revealed that former Milwauk...</td>\n",
       "      <td>0</td>\n",
       "      <td>25</td>\n",
       "    </tr>\n",
       "    <tr>\n",
       "      <th>3</th>\n",
       "      <td>On Christmas day, Donald Trump announced that ...</td>\n",
       "      <td>0</td>\n",
       "      <td>26</td>\n",
       "    </tr>\n",
       "    <tr>\n",
       "      <th>4</th>\n",
       "      <td>Pope Francis used his annual Christmas Day mes...</td>\n",
       "      <td>0</td>\n",
       "      <td>25</td>\n",
       "    </tr>\n",
       "  </tbody>\n",
       "</table>\n",
       "</div>"
      ],
      "text/plain": [
       "                                                text  true  unique_char\n",
       "0  Donald Trump just couldn t wish all Americans ...     0           25\n",
       "1  House Intelligence Committee Chairman Devin Nu...     0           24\n",
       "2  On Friday, it was revealed that former Milwauk...     0           25\n",
       "3  On Christmas day, Donald Trump announced that ...     0           26\n",
       "4  Pope Francis used his annual Christmas Day mes...     0           25"
      ]
     },
     "execution_count": 56,
     "metadata": {},
     "output_type": "execute_result"
    }
   ],
   "source": [
    "# count unique alphabet characters in text of each article \n",
    "\n",
    "def unique_char_num(string): \n",
    "    lower_str = string.lower()\n",
    "    alpha = re.sub(r'[^a-z]','',lower_str)\n",
    "    unique_ch = set(list(alpha))\n",
    "    n_unique_ch = len(unique_ch)\n",
    "    return n_unique_ch \n",
    "\n",
    "temp_df = raw_df[['text', 'true']].copy()\n",
    "temp_df['unique_char'] = temp_df.text.map(lambda x: unique_char_num(x))\n",
    "temp_df.head()"
   ]
  },
  {
   "cell_type": "code",
   "execution_count": 57,
   "id": "5ba2e4b3",
   "metadata": {
    "scrolled": true
   },
   "outputs": [
    {
     "data": {
      "text/html": [
       "<div>\n",
       "<style scoped>\n",
       "    .dataframe tbody tr th:only-of-type {\n",
       "        vertical-align: middle;\n",
       "    }\n",
       "\n",
       "    .dataframe tbody tr th {\n",
       "        vertical-align: top;\n",
       "    }\n",
       "\n",
       "    .dataframe thead th {\n",
       "        text-align: right;\n",
       "    }\n",
       "</style>\n",
       "<table border=\"1\" class=\"dataframe\">\n",
       "  <thead>\n",
       "    <tr style=\"text-align: right;\">\n",
       "      <th></th>\n",
       "      <th>index</th>\n",
       "      <th>text</th>\n",
       "      <th>true</th>\n",
       "      <th>unique_char</th>\n",
       "      <th>text_len</th>\n",
       "    </tr>\n",
       "  </thead>\n",
       "  <tbody>\n",
       "    <tr>\n",
       "      <th>0</th>\n",
       "      <td>19327</td>\n",
       "      <td>- The workforce at the U.S. Environmental Pr...</td>\n",
       "      <td>1</td>\n",
       "      <td>26</td>\n",
       "      <td>1935</td>\n",
       "    </tr>\n",
       "    <tr>\n",
       "      <th>1</th>\n",
       "      <td>10289</td>\n",
       "      <td>Lt. Col. Tony Shaffer opened a can of worms to...</td>\n",
       "      <td>0</td>\n",
       "      <td>26</td>\n",
       "      <td>8452</td>\n",
       "    </tr>\n",
       "    <tr>\n",
       "      <th>2</th>\n",
       "      <td>10277</td>\n",
       "      <td>So what s worse, Barack Obama remaining silent...</td>\n",
       "      <td>0</td>\n",
       "      <td>26</td>\n",
       "      <td>4594</td>\n",
       "    </tr>\n",
       "    <tr>\n",
       "      <th>3</th>\n",
       "      <td>29462</td>\n",
       "      <td>- Lebanon has set a date of May 6 next year t...</td>\n",
       "      <td>1</td>\n",
       "      <td>26</td>\n",
       "      <td>2135</td>\n",
       "    </tr>\n",
       "    <tr>\n",
       "      <th>4</th>\n",
       "      <td>29461</td>\n",
       "      <td>- Australia should introduce a law forcing re...</td>\n",
       "      <td>1</td>\n",
       "      <td>26</td>\n",
       "      <td>3962</td>\n",
       "    </tr>\n",
       "    <tr>\n",
       "      <th>...</th>\n",
       "      <td>...</td>\n",
       "      <td>...</td>\n",
       "      <td>...</td>\n",
       "      <td>...</td>\n",
       "      <td>...</td>\n",
       "    </tr>\n",
       "    <tr>\n",
       "      <th>38633</th>\n",
       "      <td>11113</td>\n",
       "      <td>Enjoy:</td>\n",
       "      <td>0</td>\n",
       "      <td>5</td>\n",
       "      <td>6</td>\n",
       "    </tr>\n",
       "    <tr>\n",
       "      <th>38634</th>\n",
       "      <td>11846</td>\n",
       "      <td>Via: WT</td>\n",
       "      <td>0</td>\n",
       "      <td>5</td>\n",
       "      <td>7</td>\n",
       "    </tr>\n",
       "    <tr>\n",
       "      <th>38635</th>\n",
       "      <td>11891</td>\n",
       "      <td>Enjoy</td>\n",
       "      <td>0</td>\n",
       "      <td>5</td>\n",
       "      <td>6</td>\n",
       "    </tr>\n",
       "    <tr>\n",
       "      <th>38636</th>\n",
       "      <td>12407</td>\n",
       "      <td>Via: GP</td>\n",
       "      <td>0</td>\n",
       "      <td>5</td>\n",
       "      <td>7</td>\n",
       "    </tr>\n",
       "    <tr>\n",
       "      <th>38637</th>\n",
       "      <td>12097</td>\n",
       "      <td>Ouch!</td>\n",
       "      <td>0</td>\n",
       "      <td>4</td>\n",
       "      <td>5</td>\n",
       "    </tr>\n",
       "  </tbody>\n",
       "</table>\n",
       "<p>38638 rows × 5 columns</p>\n",
       "</div>"
      ],
      "text/plain": [
       "       index                                               text  true  \\\n",
       "0      19327    - The workforce at the U.S. Environmental Pr...     1   \n",
       "1      10289  Lt. Col. Tony Shaffer opened a can of worms to...     0   \n",
       "2      10277  So what s worse, Barack Obama remaining silent...     0   \n",
       "3      29462   - Lebanon has set a date of May 6 next year t...     1   \n",
       "4      29461   - Australia should introduce a law forcing re...     1   \n",
       "...      ...                                                ...   ...   \n",
       "38633  11113                                             Enjoy:     0   \n",
       "38634  11846                                            Via: WT     0   \n",
       "38635  11891                                             Enjoy      0   \n",
       "38636  12407                                            Via: GP     0   \n",
       "38637  12097                                              Ouch!     0   \n",
       "\n",
       "       unique_char  text_len  \n",
       "0               26      1935  \n",
       "1               26      8452  \n",
       "2               26      4594  \n",
       "3               26      2135  \n",
       "4               26      3962  \n",
       "...            ...       ...  \n",
       "38633            5         6  \n",
       "38634            5         7  \n",
       "38635            5         6  \n",
       "38636            5         7  \n",
       "38637            4         5  \n",
       "\n",
       "[38638 rows x 5 columns]"
      ]
     },
     "execution_count": 57,
     "metadata": {},
     "output_type": "execute_result"
    }
   ],
   "source": [
    "# sort into descending order by unique_char\n",
    "\n",
    "to_plot = temp_df.sort_values(by='unique_char', ascending=False).reset_index()\n",
    "\n",
    "# add text length col to DF \n",
    "to_plot['text_len']= to_plot.text.map(lambda x: len(x))\n",
    "to_plot"
   ]
  },
  {
   "cell_type": "code",
   "execution_count": 58,
   "id": "2031e0a2",
   "metadata": {},
   "outputs": [
    {
     "data": {
      "text/plain": [
       "<AxesSubplot:xlabel='text_len', ylabel='unique_char'>"
      ]
     },
     "execution_count": 58,
     "metadata": {},
     "output_type": "execute_result"
    },
    {
     "data": {
      "image/png": "[encoded data removed]",
      "text/plain": [
       "<Figure size 720x432 with 1 Axes>"
      ]
     },
     "metadata": {},
     "output_type": "display_data"
    }
   ],
   "source": [
    "sns.scatterplot(data=to_plot, x='text_len', \n",
    "                y='unique_char', hue='true')  "
   ]
  },
  {
   "cell_type": "code",
   "execution_count": null,
   "id": "bab00786",
   "metadata": {},
   "outputs": [],
   "source": [
    "# This took a long time to exe. will look for laternative faster code \n",
    "\n",
    "line1= f\"{to_plot[to_plot['unique_char']<20].count()[0]} articles used less than 20 unique characters in their text\"\n",
    "line2= f\"{to_plot[to_plot['unique_char']<20].max()} is the longest piece of text that had less than 20 unique characters\"\n",
    "line3= f\"{to_plot[to_plot['unique_char']>=20].mean().astype(int)} is the average length of the text, where the article had 20 or more unique characters\"\n",
    "\n",
    "print(colored(line1, 'dark_green', attrs=['bold']))\n",
    "print(colored(line2, 'navy_blue', attrs=['bold']))\n",
    "print(colored(line3, 'magenta', attrs=['bold']))"
   ]
  },
  {
   "cell_type": "code",
   "execution_count": 59,
   "id": "9bea519c",
   "metadata": {},
   "outputs": [],
   "source": [
    "cleaned_df = raw_df.copy()\n",
    "cleaned_df.to_csv('cleaned_news.csv', encoding='utf-8')"
   ]
  },
  {
   "cell_type": "markdown",
   "id": "778ee2c5",
   "metadata": {},
   "source": [
    "## Show distribution of text count for each category as well?"
   ]
  },
  {
   "cell_type": "markdown",
   "id": "4338ba39",
   "metadata": {},
   "source": [
    "### Let's finish cleaning up the DF and Preprocessing "
   ]
  },
  {
   "cell_type": "markdown",
   "id": "fe4a2ffe",
   "metadata": {},
   "source": [
    "Delete unecessary cols - day, month, year, subject, title \n",
    "They won't be needed going forwards\n"
   ]
  },
  {
   "cell_type": "code",
   "execution_count": 61,
   "id": "c181ea66",
   "metadata": {},
   "outputs": [
    {
     "data": {
      "text/html": [
       "<div>\n",
       "<style scoped>\n",
       "    .dataframe tbody tr th:only-of-type {\n",
       "        vertical-align: middle;\n",
       "    }\n",
       "\n",
       "    .dataframe tbody tr th {\n",
       "        vertical-align: top;\n",
       "    }\n",
       "\n",
       "    .dataframe thead th {\n",
       "        text-align: right;\n",
       "    }\n",
       "</style>\n",
       "<table border=\"1\" class=\"dataframe\">\n",
       "  <thead>\n",
       "    <tr style=\"text-align: right;\">\n",
       "      <th></th>\n",
       "      <th>title</th>\n",
       "      <th>text</th>\n",
       "      <th>subject</th>\n",
       "      <th>true</th>\n",
       "      <th>day</th>\n",
       "      <th>month</th>\n",
       "      <th>year</th>\n",
       "    </tr>\n",
       "  </thead>\n",
       "  <tbody>\n",
       "    <tr>\n",
       "      <th>0</th>\n",
       "      <td>Donald Trump Sends Out Embarrassing New Year’...</td>\n",
       "      <td>Donald Trump just couldn t wish all Americans ...</td>\n",
       "      <td>worldnews</td>\n",
       "      <td>0</td>\n",
       "      <td>31</td>\n",
       "      <td>12</td>\n",
       "      <td>2017</td>\n",
       "    </tr>\n",
       "    <tr>\n",
       "      <th>1</th>\n",
       "      <td>Drunk Bragging Trump Staffer Started Russian ...</td>\n",
       "      <td>House Intelligence Committee Chairman Devin Nu...</td>\n",
       "      <td>worldnews</td>\n",
       "      <td>0</td>\n",
       "      <td>31</td>\n",
       "      <td>12</td>\n",
       "      <td>2017</td>\n",
       "    </tr>\n",
       "    <tr>\n",
       "      <th>2</th>\n",
       "      <td>Sheriff David Clarke Becomes An Internet Joke...</td>\n",
       "      <td>On Friday, it was revealed that former Milwauk...</td>\n",
       "      <td>worldnews</td>\n",
       "      <td>0</td>\n",
       "      <td>30</td>\n",
       "      <td>12</td>\n",
       "      <td>2017</td>\n",
       "    </tr>\n",
       "  </tbody>\n",
       "</table>\n",
       "</div>"
      ],
      "text/plain": [
       "                                               title  \\\n",
       "0   Donald Trump Sends Out Embarrassing New Year’...   \n",
       "1   Drunk Bragging Trump Staffer Started Russian ...   \n",
       "2   Sheriff David Clarke Becomes An Internet Joke...   \n",
       "\n",
       "                                                text    subject  true  day  \\\n",
       "0  Donald Trump just couldn t wish all Americans ...  worldnews     0   31   \n",
       "1  House Intelligence Committee Chairman Devin Nu...  worldnews     0   31   \n",
       "2  On Friday, it was revealed that former Milwauk...  worldnews     0   30   \n",
       "\n",
       "   month  year  \n",
       "0     12  2017  \n",
       "1     12  2017  \n",
       "2     12  2017  "
      ]
     },
     "execution_count": 61,
     "metadata": {},
     "output_type": "execute_result"
    }
   ],
   "source": [
    "cleaned_df.head(3)"
   ]
  },
  {
   "cell_type": "code",
   "execution_count": 62,
   "id": "f1131c46",
   "metadata": {},
   "outputs": [
    {
     "data": {
      "text/html": [
       "<div>\n",
       "<style scoped>\n",
       "    .dataframe tbody tr th:only-of-type {\n",
       "        vertical-align: middle;\n",
       "    }\n",
       "\n",
       "    .dataframe tbody tr th {\n",
       "        vertical-align: top;\n",
       "    }\n",
       "\n",
       "    .dataframe thead th {\n",
       "        text-align: right;\n",
       "    }\n",
       "</style>\n",
       "<table border=\"1\" class=\"dataframe\">\n",
       "  <thead>\n",
       "    <tr style=\"text-align: right;\">\n",
       "      <th></th>\n",
       "      <th>text</th>\n",
       "      <th>true</th>\n",
       "    </tr>\n",
       "  </thead>\n",
       "  <tbody>\n",
       "    <tr>\n",
       "      <th>0</th>\n",
       "      <td>Donald Trump just couldn t wish all Americans ...</td>\n",
       "      <td>0</td>\n",
       "    </tr>\n",
       "    <tr>\n",
       "      <th>1</th>\n",
       "      <td>House Intelligence Committee Chairman Devin Nu...</td>\n",
       "      <td>0</td>\n",
       "    </tr>\n",
       "    <tr>\n",
       "      <th>2</th>\n",
       "      <td>On Friday, it was revealed that former Milwauk...</td>\n",
       "      <td>0</td>\n",
       "    </tr>\n",
       "    <tr>\n",
       "      <th>3</th>\n",
       "      <td>On Christmas day, Donald Trump announced that ...</td>\n",
       "      <td>0</td>\n",
       "    </tr>\n",
       "    <tr>\n",
       "      <th>4</th>\n",
       "      <td>Pope Francis used his annual Christmas Day mes...</td>\n",
       "      <td>0</td>\n",
       "    </tr>\n",
       "    <tr>\n",
       "      <th>5</th>\n",
       "      <td>The number of cases of cops brutalizing and ki...</td>\n",
       "      <td>0</td>\n",
       "    </tr>\n",
       "    <tr>\n",
       "      <th>6</th>\n",
       "      <td>Donald Trump spent a good portion of his day a...</td>\n",
       "      <td>0</td>\n",
       "    </tr>\n",
       "    <tr>\n",
       "      <th>7</th>\n",
       "      <td>In the wake of yet another court decision that...</td>\n",
       "      <td>0</td>\n",
       "    </tr>\n",
       "    <tr>\n",
       "      <th>8</th>\n",
       "      <td>Many people have raised the alarm regarding th...</td>\n",
       "      <td>0</td>\n",
       "    </tr>\n",
       "    <tr>\n",
       "      <th>9</th>\n",
       "      <td>Just when you might have thought we d get a br...</td>\n",
       "      <td>0</td>\n",
       "    </tr>\n",
       "  </tbody>\n",
       "</table>\n",
       "</div>"
      ],
      "text/plain": [
       "                                                text  true\n",
       "0  Donald Trump just couldn t wish all Americans ...     0\n",
       "1  House Intelligence Committee Chairman Devin Nu...     0\n",
       "2  On Friday, it was revealed that former Milwauk...     0\n",
       "3  On Christmas day, Donald Trump announced that ...     0\n",
       "4  Pope Francis used his annual Christmas Day mes...     0\n",
       "5  The number of cases of cops brutalizing and ki...     0\n",
       "6  Donald Trump spent a good portion of his day a...     0\n",
       "7  In the wake of yet another court decision that...     0\n",
       "8  Many people have raised the alarm regarding th...     0\n",
       "9  Just when you might have thought we d get a br...     0"
      ]
     },
     "execution_count": 62,
     "metadata": {},
     "output_type": "execute_result"
    }
   ],
   "source": [
    "del cleaned_df['year']\n",
    "del cleaned_df['month']\n",
    "del cleaned_df['day']\n",
    "del cleaned_df['subject']\n",
    "del cleaned_df['title']\n",
    "\n",
    "\n",
    "cleaned_df.head(10)"
   ]
  },
  {
   "cell_type": "markdown",
   "id": "3749e5e1",
   "metadata": {},
   "source": [
    "#### Let's really clean up the data\n",
    "\n",
    "* Remove punctuation\n",
    "* remove special char \n",
    "* convert upper to lower \n",
    "* remove stopwords\n",
    "* remove urls\n",
    "* Lemmatization - The stemming of words without loss of meaning to context\n"
   ]
  },
  {
   "cell_type": "markdown",
   "id": "5334826e",
   "metadata": {},
   "source": [
    "##### We'll clean the first 10 news article only for now... "
   ]
  },
  {
   "cell_type": "code",
   "execution_count": 63,
   "id": "a19a8e3a",
   "metadata": {},
   "outputs": [
    {
     "data": {
      "text/plain": [
       "\"A centerpiece of Donald Trump s campaign, and now his presidency, has been his white supremacist ways. That is why so many of the public feuds he gets into involve people of color. One of his favorite targets, is, of course, the players in the National Football League who dare to exercise their First Amendment rights by kneeling during the national anthem in protest of racist police brutality. Well, there is one person who has figured out that racism is bad for business, even if it did get the orange overlord elected: The founder of the pizza chain Papa John s.This is a man who has never been on the right side of history on any number of issues, and plus his pizza sucks. But, when he decided to complain about the players protesting, his sales really dropped. Turns out racism doesn t pay, and we all know that corporations are all about the bottom line. Therefore, Papa John Schnatter will no longer be CEO of the hack pizza chain.BREAKING: Papa John's founder John Schnatter to step down as CEO; announcement comes weeks after he criticized NFL over protests.  AP Business News (@APBusiness) December 21, 2017The thing is, while people are certainly allowed to have political opinions, they have to realize that those opinions can often come with dire consequences   especially if one is in the business of trying to garner sales and support from any and all people, which one would presume is the goal of all CEO s. No one knows whether or not the pressure from his shareholders, the public outcry or boycotts, or even the NFL itself had anything to do with his stepping down. As of right now, all we know is that he will be gone, and perhaps the future CEO will run a company that is inclusive of the diverse fabric that we call America. After all, the guiding symbol of this nation will always be the Statue of Liberty, and bigots like Trump and Schnatter are the past. The rest of us are the future. We just have to survive the present to get there.Featured image via Rob Kim/Getty Images\""
      ]
     },
     "execution_count": 63,
     "metadata": {},
     "output_type": "execute_result"
    }
   ],
   "source": [
    "text_1 = cleaned_df.text[10]\n",
    "text_1\n"
   ]
  },
  {
   "cell_type": "code",
   "execution_count": 64,
   "id": "3e6cf944",
   "metadata": {},
   "outputs": [],
   "source": [
    "#  use contractions lib for context when expanding contractions (i'd -> i would)\n",
    "import contractions "
   ]
  },
  {
   "cell_type": "code",
   "execution_count": 65,
   "id": "d4c3f333",
   "metadata": {
    "scrolled": true
   },
   "outputs": [
    {
     "data": {
      "text/plain": [
       "\"A centerpiece of Donald Trump s campaign, and now his presidency, has been his white supremacist ways. That is why so many of the public feuds he gets into involve people of color. One of his favorite targets, is, of course, the players in the National Football League who dare to exercise their First Amendment rights by kneeling during the national anthem in protest of racist police brutality. Well, there is one person who has figured out that racism is bad for business, even if it did get the orange overlord elected: The founder of the pizza chain Papa John s.This is a man who has never been on the right side of history on any number of issues, and plus his pizza sucks. But, when he decided to complain about the players protesting, his sales really dropped. Turns out racism doesn t pay, and we all know that corporations are all about the bottom line. Therefore, Papa John Schnatter will no longer be CEO of the hack pizza chain.BREAKING: Papa John's founder John Schnatter to step down as CEO; announcement comes weeks after he criticized NFL over protests. AP Business News (@APBusiness) December 21, 2017The thing is, while people are certainly allowed to have political opinions, they have to realize that those opinions can often come with dire consequences especially if one is in the business of trying to garner sales and support from any and all people, which one would presume is the goal of all CEO s. No one knows whether or not the pressure from his shareholders, the public outcry or boycotts, or even the NFL itself had anything to do with his stepping down. As of right now, all we know is that he will be gone, and perhaps the future CEO will run a company that is inclusive of the diverse fabric that we call America. After all, the guiding symbol of this nation will always be the Statue of Liberty, and bigots like Trump and Schnatter are the past. The rest of us are the future. We just have to survive the present to get there.Featured image via Rob Kim/Getty Images\""
      ]
     },
     "execution_count": 65,
     "metadata": {},
     "output_type": "execute_result"
    }
   ],
   "source": [
    "# contractions now working after comnverting to str \n",
    "\n",
    "text_1 = ' '.join([contractions.fix(word) for word in text_1.split()])\n",
    "text_1\n",
    "\n"
   ]
  },
  {
   "cell_type": "code",
   "execution_count": 66,
   "id": "23d016a2",
   "metadata": {
    "scrolled": true
   },
   "outputs": [],
   "source": [
    "#  remove stopwords \n",
    "#  is stopword library inclusive enough? \n",
    "\n",
    "\n",
    "from nltk.corpus import stopwords\n",
    "from nltk.tokenize import word_tokenize\n",
    "\n",
    "text_1 = word_tokenize(text_1) \n",
    "text_1 = [ word for word in text_1 if not word in set(stopwords.words(\"english\"))]\n"
   ]
  },
  {
   "cell_type": "code",
   "execution_count": 67,
   "id": "8e3e5656",
   "metadata": {},
   "outputs": [
    {
     "data": {
      "text/plain": [
       "\"A centerpiece Donald Trump campaign , presidency , white supremacist ways . That many public feuds gets involve people color . One favorite targets , , course , players National Football League dare exercise First Amendment rights kneeling national anthem protest racist police brutality . Well , one person figured racism bad business , even get orange overlord elected : The founder pizza chain Papa John s.This man never right side history number issues , plus pizza sucks . But , decided complain players protesting , sales really dropped . Turns racism pay , know corporations bottom line . Therefore , Papa John Schnatter longer CEO hack pizza chain.BREAKING : Papa John 's founder John Schnatter step CEO ; announcement comes weeks criticized NFL protests . AP Business News ( @ APBusiness ) December 21 , 2017The thing , people certainly allowed political opinions , realize opinions often come dire consequences especially one business trying garner sales support people , one would presume goal CEO s. No one knows whether pressure shareholders , public outcry boycotts , even NFL anything stepping . As right , know gone , perhaps future CEO run company inclusive diverse fabric call America . After , guiding symbol nation always Statue Liberty , bigots like Trump Schnatter past . The rest us future . We survive present get there.Featured image via Rob Kim/Getty Images\""
      ]
     },
     "execution_count": 67,
     "metadata": {},
     "output_type": "execute_result"
    }
   ],
   "source": [
    "text_1 = ' '.join(text_1)\n",
    "text_1"
   ]
  },
  {
   "cell_type": "code",
   "execution_count": 68,
   "id": "deb398e8",
   "metadata": {},
   "outputs": [
    {
     "data": {
      "text/plain": [
       "'a centerpiece donald trump campaign   presidency   white supremacist ways   that many public feuds gets involve people color   one favorite targets     course   players national football league dare exercise first amendment rights kneeling national anthem protest racist police brutality   well   one person figured racism bad business   even get orange overlord elected   the founder pizza chain papa john s this man never right side history number issues   plus pizza sucks   but   decided complain players protesting   sales really dropped   turns racism pay   know corporations bottom line   therefore   papa john schnatter longer ceo hack pizza chain breaking   papa john  s founder john schnatter step ceo   announcement comes weeks criticized nfl protests   ap business news     apbusiness   december          the thing   people certainly allowed political opinions   realize opinions often come dire consequences especially one business trying garner sales support people   one would presume goal ceo s  no one knows whether pressure shareholders   public outcry boycotts   even nfl anything stepping   as right   know gone   perhaps future ceo run company inclusive diverse fabric call america   after   guiding symbol nation always statue liberty   bigots like trump schnatter past   the rest us future   we survive present get there featured image via rob kim getty images'"
      ]
     },
     "execution_count": 68,
     "metadata": {},
     "output_type": "execute_result"
    }
   ],
   "source": [
    "# Remove special characters and punctuation \n",
    "import re \n",
    "import string \n",
    "\n",
    "text_1 = re.sub('\\[[^]]*\\]', ' ', text_1)\n",
    "text_1 = re.sub('[^a-zA-Z]', ' ', text_1)\n",
    "\n",
    "#  convert from  upper to lower \n",
    "text_1 = text_1.lower()\n",
    "\n",
    "text_1"
   ]
  },
  {
   "cell_type": "code",
   "execution_count": 69,
   "id": "aea960d5",
   "metadata": {},
   "outputs": [
    {
     "data": {
      "text/plain": [
       "'a centerpiece donald trump campaign   presidency   white supremacist ways   that many public feuds gets involve people color   one favorite targets     course   players national football league dare exercise first amendment rights kneeling national anthem protest racist police brutality   well   one person figured racism bad business   even get orange overlord elected   the founder pizza chain papa john s this man never right side history number issues   plus pizza sucks   but   decided complain players protesting   sales really dropped   turns racism pay   know corporations bottom line   therefore   papa john schnatter longer ceo hack pizza chain breaking   papa john  s founder john schnatter step ceo   announcement comes weeks criticized nfl protests   ap business news     apbusiness   december          the thing   people certainly allowed political opinions   realize opinions often come dire consequences especially one business trying garner sales support people   one would presume goal ceo s  no one knows whether pressure shareholders   public outcry boycotts   even nfl anything stepping   as right   know gone   perhaps future ceo run company inclusive diverse fabric call america   after   guiding symbol nation always statue liberty   bigots like trump schnatter past   the rest us future   we survive present get there featured image via rob kim getty images'"
      ]
     },
     "execution_count": 69,
     "metadata": {},
     "output_type": "execute_result"
    }
   ],
   "source": [
    "#  removal of HTML content\n",
    "\n",
    "from bs4 import BeautifulSoup\n",
    "\n",
    "soup = BeautifulSoup(text_1, \"html.parser\")\n",
    "text_1 = soup.get_text()\n",
    "text_1"
   ]
  },
  {
   "cell_type": "code",
   "execution_count": 70,
   "id": "4456dbbf",
   "metadata": {},
   "outputs": [
    {
     "data": {
      "text/plain": [
       "'a centerpiece donald trump campaign presidency white supremacist way that many public feud get involve people color one favorite target course player national football league dare exercise first amendment right kneeling national anthem protest racist police brutality well one person figured racism bad business even get orange overlord elected the founder pizza chain papa john s this man never right side history number issue plus pizza suck but decided complain player protesting sale really dropped turn racism pay know corporation bottom line therefore papa john schnatter longer ceo hack pizza chain breaking papa john s founder john schnatter step ceo announcement come week criticized nfl protest ap business news apbusiness december the thing people certainly allowed political opinion realize opinion often come dire consequence especially one business trying garner sale support people one would presume goal ceo s no one know whether pressure shareholder public outcry boycott even nfl anything stepping a right know gone perhaps future ceo run company inclusive diverse fabric call america after guiding symbol nation always statue liberty bigot like trump schnatter past the rest u future we survive present get there featured image via rob kim getty image'"
      ]
     },
     "execution_count": 70,
     "metadata": {},
     "output_type": "execute_result"
    }
   ],
   "source": [
    "# Lemmatization \n",
    "\n",
    "from nltk.stem.wordnet import WordNetLemmatizer\n",
    "\n",
    "lemma = WordNetLemmatizer()\n",
    "text_1 = [lemma.lemmatize(word) for word in text_1.split()]\n",
    "\n",
    "text_1 = \" \".join(text_1)\n",
    "text_1"
   ]
  },
  {
   "cell_type": "markdown",
   "id": "f50a30d4",
   "metadata": {},
   "source": [
    "* perhaps remove numbers? \n",
    "* what about exclamation and question marks? \n",
    "\n",
    "### Now lets use the tested cleansing above and make functions to  cleanse all text. add a few more functions"
   ]
  },
  {
   "cell_type": "code",
   "execution_count": 75,
   "id": "9df811cf",
   "metadata": {},
   "outputs": [],
   "source": [
    "# remove URL\n",
    "def remove_URL(text):\n",
    "    url = re.compile(r'https?://\\S+')\n",
    "    return url.sub(r' httpsmark ', text)\n",
    "\n",
    "# HTML removal \n",
    "def remove_html(text):\n",
    "    soup = BeautifulSoup(text, \"html.parser\")\n",
    "    return soup.get_text()\n",
    "\n",
    "\n",
    "# Remove punctuation\n",
    "def remove_punct(text):\n",
    "    return re.sub('\\[[^]]*\\]', '', text)\n",
    "\n",
    "\n",
    "# remove special chars\n",
    "def remove_chars(text):\n",
    "    return re.sub(\"[^a-zA-A]\", \" \", text)\n",
    "\n",
    "# remove emoji \n",
    "\"\"\" def remove_emoji(string):\n",
    "    emoji_pattern = re.compile(\"[\"\n",
    "                               u\"\\U0001F600-\\U0001F64F\"  # emoticons\n",
    "                               u\"\\U0001F300-\\U0001F5FF\"  # symbols & pictographs\n",
    "                               u\"\\U0001F680-\\U0001F6FF\"  # transport & map symbols\n",
    "                               u\"\\U0001F1E0-\\U0001F1FF\"  # flags (iOS)\n",
    "                               u\"\\U00002500-\\U00002BEF\"  # chinese char\n",
    "                               u\"\\U00002702-\\U000027B0\"\n",
    "                               u\"\\U00002702-\\U000027B0\"\n",
    "                               u\"\\U000024C2-\\U0001F251\"\n",
    "                               u\"\\U0001f926-\\U0001f937\"\n",
    "                               u\"\\U00010000-\\U0010ffff\"\n",
    "                               u\"\\u2640-\\u2642\"\n",
    "                               u\"\\u2600-\\u2B55\"\n",
    "                               u\"\\u200d\"\n",
    "                               u\"\\u23cf\"\n",
    "                               u\"\\u23e9\"\n",
    "                               u\"\\u231a\"\n",
    "                               u\"\\ufe0f\"  # dingbats\n",
    "                               u\"\\u3030\"\n",
    "                               \"]+\", flags=re.UNICODE)\n",
    "    return emoji_pattern.sub(r' emoji ', string)\n",
    "\"\"\" \n",
    "\n",
    "# remove stopwords\n",
    "def remove_stop_and_lemmat(text): \n",
    "    final_text = []\n",
    "    text = text.lower()\n",
    "    text = word_tokenize(text)\n",
    "    \n",
    "    for word in text:\n",
    "        if word not in set(stopwords.words('english')):\n",
    "            lemma = WordNetLemmatizer()\n",
    "            word = lemma.lemmatize(word)\n",
    "            final_text.append(word)\n",
    "    return \" \".join(final_text)\n",
    "\n",
    "\n",
    "# try timer against smaller piece of text to see what function is slow\n",
    "\n",
    "import time\n",
    "\n",
    "starttime=time.time()\n",
    "duration=time.time() - starttime\n",
    "\n",
    "\n",
    "# full function \n",
    "def cleanse(text):\n",
    "    starttime\n",
    "    text = remove_URL(text)\n",
    "    duration\n",
    "    text = remove_html(text)\n",
    "    text = remove_punct(text)\n",
    "    text = remove_chars(text)\n",
    "    # text = remove_emoji(text)\n",
    "    text = remove_stop_and_lemmat(text)\n",
    "    \n"
   ]
  },
  {
   "cell_type": "code",
   "execution_count": null,
   "id": "8c4060aa",
   "metadata": {},
   "outputs": [],
   "source": [
    "# try timer against smaller piece of text to see what function is slow\n",
    "\n",
    "import time\n",
    "\n",
    "starttime=time.time()\n",
    "duration=time.time() - starttime"
   ]
  },
  {
   "cell_type": "code",
   "execution_count": 76,
   "id": "7587b414",
   "metadata": {
    "scrolled": false
   },
   "outputs": [
    {
     "ename": "KeyboardInterrupt",
     "evalue": "",
     "output_type": "error",
     "traceback": [
      "\u001b[0;31m---------------------------------------------------------------------------\u001b[0m",
      "\u001b[0;31mKeyboardInterrupt\u001b[0m                         Traceback (most recent call last)",
      "\u001b[0;32m/var/folders/c3/v3dfqb6n50x96zb4934m6ky00000gn/T/ipykernel_48972/3159004444.py\u001b[0m in \u001b[0;36m<module>\u001b[0;34m\u001b[0m\n\u001b[1;32m      2\u001b[0m \u001b[0;31m# Note: haven't tested this as took too long to run. Suspect it maybe remove_emoji()\u001b[0m\u001b[0;34m\u001b[0m\u001b[0;34m\u001b[0m\u001b[0m\n\u001b[1;32m      3\u001b[0m \u001b[0;34m\u001b[0m\u001b[0m\n\u001b[0;32m----> 4\u001b[0;31m \u001b[0mcleaned_df\u001b[0m\u001b[0;34m[\u001b[0m\u001b[0;34m'text'\u001b[0m\u001b[0;34m]\u001b[0m\u001b[0;34m=\u001b[0m\u001b[0mcleaned_df\u001b[0m\u001b[0;34m[\u001b[0m\u001b[0;34m'text'\u001b[0m\u001b[0;34m]\u001b[0m\u001b[0;34m.\u001b[0m\u001b[0mapply\u001b[0m\u001b[0;34m(\u001b[0m\u001b[0mcleanse\u001b[0m\u001b[0;34m)\u001b[0m\u001b[0;34m\u001b[0m\u001b[0;34m\u001b[0m\u001b[0m\n\u001b[0m",
      "\u001b[0;32m~/opt/anaconda3/lib/python3.9/site-packages/pandas/core/series.py\u001b[0m in \u001b[0;36mapply\u001b[0;34m(self, func, convert_dtype, args, **kwargs)\u001b[0m\n\u001b[1;32m   4355\u001b[0m         \u001b[0mdtype\u001b[0m\u001b[0;34m:\u001b[0m \u001b[0mfloat64\u001b[0m\u001b[0;34m\u001b[0m\u001b[0;34m\u001b[0m\u001b[0m\n\u001b[1;32m   4356\u001b[0m         \"\"\"\n\u001b[0;32m-> 4357\u001b[0;31m         \u001b[0;32mreturn\u001b[0m \u001b[0mSeriesApply\u001b[0m\u001b[0;34m(\u001b[0m\u001b[0mself\u001b[0m\u001b[0;34m,\u001b[0m \u001b[0mfunc\u001b[0m\u001b[0;34m,\u001b[0m \u001b[0mconvert_dtype\u001b[0m\u001b[0;34m,\u001b[0m \u001b[0margs\u001b[0m\u001b[0;34m,\u001b[0m \u001b[0mkwargs\u001b[0m\u001b[0;34m)\u001b[0m\u001b[0;34m.\u001b[0m\u001b[0mapply\u001b[0m\u001b[0;34m(\u001b[0m\u001b[0;34m)\u001b[0m\u001b[0;34m\u001b[0m\u001b[0;34m\u001b[0m\u001b[0m\n\u001b[0m\u001b[1;32m   4358\u001b[0m \u001b[0;34m\u001b[0m\u001b[0m\n\u001b[1;32m   4359\u001b[0m     def _reduce(\n",
      "\u001b[0;32m~/opt/anaconda3/lib/python3.9/site-packages/pandas/core/apply.py\u001b[0m in \u001b[0;36mapply\u001b[0;34m(self)\u001b[0m\n\u001b[1;32m   1041\u001b[0m             \u001b[0;32mreturn\u001b[0m \u001b[0mself\u001b[0m\u001b[0;34m.\u001b[0m\u001b[0mapply_str\u001b[0m\u001b[0;34m(\u001b[0m\u001b[0;34m)\u001b[0m\u001b[0;34m\u001b[0m\u001b[0;34m\u001b[0m\u001b[0m\n\u001b[1;32m   1042\u001b[0m \u001b[0;34m\u001b[0m\u001b[0m\n\u001b[0;32m-> 1043\u001b[0;31m         \u001b[0;32mreturn\u001b[0m \u001b[0mself\u001b[0m\u001b[0;34m.\u001b[0m\u001b[0mapply_standard\u001b[0m\u001b[0;34m(\u001b[0m\u001b[0;34m)\u001b[0m\u001b[0;34m\u001b[0m\u001b[0;34m\u001b[0m\u001b[0m\n\u001b[0m\u001b[1;32m   1044\u001b[0m \u001b[0;34m\u001b[0m\u001b[0m\n\u001b[1;32m   1045\u001b[0m     \u001b[0;32mdef\u001b[0m \u001b[0magg\u001b[0m\u001b[0;34m(\u001b[0m\u001b[0mself\u001b[0m\u001b[0;34m)\u001b[0m\u001b[0;34m:\u001b[0m\u001b[0;34m\u001b[0m\u001b[0;34m\u001b[0m\u001b[0m\n",
      "\u001b[0;32m~/opt/anaconda3/lib/python3.9/site-packages/pandas/core/apply.py\u001b[0m in \u001b[0;36mapply_standard\u001b[0;34m(self)\u001b[0m\n\u001b[1;32m   1096\u001b[0m                 \u001b[0;31m# List[Union[Callable[..., Any], str]]]]]\"; expected\u001b[0m\u001b[0;34m\u001b[0m\u001b[0;34m\u001b[0m\u001b[0m\n\u001b[1;32m   1097\u001b[0m                 \u001b[0;31m# \"Callable[[Any], Any]\"\u001b[0m\u001b[0;34m\u001b[0m\u001b[0;34m\u001b[0m\u001b[0m\n\u001b[0;32m-> 1098\u001b[0;31m                 mapped = lib.map_infer(\n\u001b[0m\u001b[1;32m   1099\u001b[0m                     \u001b[0mvalues\u001b[0m\u001b[0;34m,\u001b[0m\u001b[0;34m\u001b[0m\u001b[0;34m\u001b[0m\u001b[0m\n\u001b[1;32m   1100\u001b[0m                     \u001b[0mf\u001b[0m\u001b[0;34m,\u001b[0m  \u001b[0;31m# type: ignore[arg-type]\u001b[0m\u001b[0;34m\u001b[0m\u001b[0;34m\u001b[0m\u001b[0m\n",
      "\u001b[0;32m~/opt/anaconda3/lib/python3.9/site-packages/pandas/_libs/lib.pyx\u001b[0m in \u001b[0;36mpandas._libs.lib.map_infer\u001b[0;34m()\u001b[0m\n",
      "\u001b[0;32m/var/folders/c3/v3dfqb6n50x96zb4934m6ky00000gn/T/ipykernel_48972/342446232.py\u001b[0m in \u001b[0;36mcleanse\u001b[0;34m(text)\u001b[0m\n\u001b[1;32m     65\u001b[0m     \u001b[0mtext\u001b[0m \u001b[0;34m=\u001b[0m \u001b[0mremove_chars\u001b[0m\u001b[0;34m(\u001b[0m\u001b[0mtext\u001b[0m\u001b[0;34m)\u001b[0m\u001b[0;34m\u001b[0m\u001b[0;34m\u001b[0m\u001b[0m\n\u001b[1;32m     66\u001b[0m     \u001b[0;31m# text = remove_emoji(text)\u001b[0m\u001b[0;34m\u001b[0m\u001b[0;34m\u001b[0m\u001b[0m\n\u001b[0;32m---> 67\u001b[0;31m     \u001b[0mtext\u001b[0m \u001b[0;34m=\u001b[0m \u001b[0mremove_stop_and_lemmat\u001b[0m\u001b[0;34m(\u001b[0m\u001b[0mtext\u001b[0m\u001b[0;34m)\u001b[0m\u001b[0;34m\u001b[0m\u001b[0;34m\u001b[0m\u001b[0m\n\u001b[0m\u001b[1;32m     68\u001b[0m \u001b[0;34m\u001b[0m\u001b[0m\n",
      "\u001b[0;32m/var/folders/c3/v3dfqb6n50x96zb4934m6ky00000gn/T/ipykernel_48972/342446232.py\u001b[0m in \u001b[0;36mremove_stop_and_lemmat\u001b[0;34m(text)\u001b[0m\n\u001b[1;32m     53\u001b[0m         \u001b[0;32mif\u001b[0m \u001b[0mword\u001b[0m \u001b[0;32mnot\u001b[0m \u001b[0;32min\u001b[0m \u001b[0mset\u001b[0m\u001b[0;34m(\u001b[0m\u001b[0mstopwords\u001b[0m\u001b[0;34m.\u001b[0m\u001b[0mwords\u001b[0m\u001b[0;34m(\u001b[0m\u001b[0;34m'english'\u001b[0m\u001b[0;34m)\u001b[0m\u001b[0;34m)\u001b[0m\u001b[0;34m:\u001b[0m\u001b[0;34m\u001b[0m\u001b[0;34m\u001b[0m\u001b[0m\n\u001b[1;32m     54\u001b[0m             \u001b[0mlemma\u001b[0m \u001b[0;34m=\u001b[0m \u001b[0mWordNetLemmatizer\u001b[0m\u001b[0;34m(\u001b[0m\u001b[0;34m)\u001b[0m\u001b[0;34m\u001b[0m\u001b[0;34m\u001b[0m\u001b[0m\n\u001b[0;32m---> 55\u001b[0;31m             \u001b[0mword\u001b[0m \u001b[0;34m=\u001b[0m \u001b[0mlemma\u001b[0m\u001b[0;34m.\u001b[0m\u001b[0mlemmatize\u001b[0m\u001b[0;34m(\u001b[0m\u001b[0mword\u001b[0m\u001b[0;34m)\u001b[0m\u001b[0;34m\u001b[0m\u001b[0;34m\u001b[0m\u001b[0m\n\u001b[0m\u001b[1;32m     56\u001b[0m             \u001b[0mfinal_text\u001b[0m\u001b[0;34m.\u001b[0m\u001b[0mappend\u001b[0m\u001b[0;34m(\u001b[0m\u001b[0mword\u001b[0m\u001b[0;34m)\u001b[0m\u001b[0;34m\u001b[0m\u001b[0;34m\u001b[0m\u001b[0m\n\u001b[1;32m     57\u001b[0m     \u001b[0;32mreturn\u001b[0m \u001b[0;34m\" \"\u001b[0m\u001b[0;34m.\u001b[0m\u001b[0mjoin\u001b[0m\u001b[0;34m(\u001b[0m\u001b[0mfinal_text\u001b[0m\u001b[0;34m)\u001b[0m\u001b[0;34m\u001b[0m\u001b[0;34m\u001b[0m\u001b[0m\n",
      "\u001b[0;32m~/opt/anaconda3/lib/python3.9/site-packages/nltk/stem/wordnet.py\u001b[0m in \u001b[0;36mlemmatize\u001b[0;34m(self, word, pos)\u001b[0m\n\u001b[1;32m     43\u001b[0m         \u001b[0;34m:\u001b[0m\u001b[0;32mreturn\u001b[0m\u001b[0;34m:\u001b[0m \u001b[0mThe\u001b[0m \u001b[0mlemma\u001b[0m \u001b[0mof\u001b[0m\u001b[0;31m \u001b[0m\u001b[0;31m`\u001b[0m\u001b[0mword\u001b[0m\u001b[0;31m`\u001b[0m\u001b[0;34m,\u001b[0m \u001b[0;32mfor\u001b[0m \u001b[0mthe\u001b[0m \u001b[0mgiven\u001b[0m\u001b[0;31m \u001b[0m\u001b[0;31m`\u001b[0m\u001b[0mpos\u001b[0m\u001b[0;31m`\u001b[0m\u001b[0;34m.\u001b[0m\u001b[0;34m\u001b[0m\u001b[0;34m\u001b[0m\u001b[0m\n\u001b[1;32m     44\u001b[0m         \"\"\"\n\u001b[0;32m---> 45\u001b[0;31m         \u001b[0mlemmas\u001b[0m \u001b[0;34m=\u001b[0m \u001b[0mwn\u001b[0m\u001b[0;34m.\u001b[0m\u001b[0m_morphy\u001b[0m\u001b[0;34m(\u001b[0m\u001b[0mword\u001b[0m\u001b[0;34m,\u001b[0m \u001b[0mpos\u001b[0m\u001b[0;34m)\u001b[0m\u001b[0;34m\u001b[0m\u001b[0;34m\u001b[0m\u001b[0m\n\u001b[0m\u001b[1;32m     46\u001b[0m         \u001b[0;32mreturn\u001b[0m \u001b[0mmin\u001b[0m\u001b[0;34m(\u001b[0m\u001b[0mlemmas\u001b[0m\u001b[0;34m,\u001b[0m \u001b[0mkey\u001b[0m\u001b[0;34m=\u001b[0m\u001b[0mlen\u001b[0m\u001b[0;34m)\u001b[0m \u001b[0;32mif\u001b[0m \u001b[0mlemmas\u001b[0m \u001b[0;32melse\u001b[0m \u001b[0mword\u001b[0m\u001b[0;34m\u001b[0m\u001b[0;34m\u001b[0m\u001b[0m\n\u001b[1;32m     47\u001b[0m \u001b[0;34m\u001b[0m\u001b[0m\n",
      "\u001b[0;32m~/opt/anaconda3/lib/python3.9/site-packages/nltk/corpus/reader/wordnet.py\u001b[0m in \u001b[0;36m_morphy\u001b[0;34m(self, form, pos, check_exceptions)\u001b[0m\n\u001b[1;32m   1922\u001b[0m             ]\n\u001b[1;32m   1923\u001b[0m \u001b[0;34m\u001b[0m\u001b[0m\n\u001b[0;32m-> 1924\u001b[0;31m         \u001b[0;32mdef\u001b[0m \u001b[0mfilter_forms\u001b[0m\u001b[0;34m(\u001b[0m\u001b[0mforms\u001b[0m\u001b[0;34m)\u001b[0m\u001b[0;34m:\u001b[0m\u001b[0;34m\u001b[0m\u001b[0;34m\u001b[0m\u001b[0m\n\u001b[0m\u001b[1;32m   1925\u001b[0m             \u001b[0mresult\u001b[0m \u001b[0;34m=\u001b[0m \u001b[0;34m[\u001b[0m\u001b[0;34m]\u001b[0m\u001b[0;34m\u001b[0m\u001b[0;34m\u001b[0m\u001b[0m\n\u001b[1;32m   1926\u001b[0m             \u001b[0mseen\u001b[0m \u001b[0;34m=\u001b[0m \u001b[0mset\u001b[0m\u001b[0;34m(\u001b[0m\u001b[0;34m)\u001b[0m\u001b[0;34m\u001b[0m\u001b[0;34m\u001b[0m\u001b[0m\n",
      "\u001b[0;31mKeyboardInterrupt\u001b[0m: "
     ]
    }
   ],
   "source": [
    "# Apply function to text col\n",
    "# Note: haven't tested this as took too long to run. Suspect it maybe remove_emoji()\n",
    "\n",
    "cleaned_df['text']=cleaned_df['text'].apply(cleanse)"
   ]
  },
  {
   "cell_type": "code",
   "execution_count": 72,
   "id": "7de892ec",
   "metadata": {},
   "outputs": [
    {
     "data": {
      "text/html": [
       "<div>\n",
       "<style scoped>\n",
       "    .dataframe tbody tr th:only-of-type {\n",
       "        vertical-align: middle;\n",
       "    }\n",
       "\n",
       "    .dataframe tbody tr th {\n",
       "        vertical-align: top;\n",
       "    }\n",
       "\n",
       "    .dataframe thead th {\n",
       "        text-align: right;\n",
       "    }\n",
       "</style>\n",
       "<table border=\"1\" class=\"dataframe\">\n",
       "  <thead>\n",
       "    <tr style=\"text-align: right;\">\n",
       "      <th></th>\n",
       "      <th>text</th>\n",
       "      <th>true</th>\n",
       "    </tr>\n",
       "  </thead>\n",
       "  <tbody>\n",
       "    <tr>\n",
       "      <th>0</th>\n",
       "      <td>Donald Trump just couldn t wish all Americans ...</td>\n",
       "      <td>0</td>\n",
       "    </tr>\n",
       "    <tr>\n",
       "      <th>1</th>\n",
       "      <td>House Intelligence Committee Chairman Devin Nu...</td>\n",
       "      <td>0</td>\n",
       "    </tr>\n",
       "    <tr>\n",
       "      <th>2</th>\n",
       "      <td>On Friday, it was revealed that former Milwauk...</td>\n",
       "      <td>0</td>\n",
       "    </tr>\n",
       "    <tr>\n",
       "      <th>3</th>\n",
       "      <td>On Christmas day, Donald Trump announced that ...</td>\n",
       "      <td>0</td>\n",
       "    </tr>\n",
       "    <tr>\n",
       "      <th>4</th>\n",
       "      <td>Pope Francis used his annual Christmas Day mes...</td>\n",
       "      <td>0</td>\n",
       "    </tr>\n",
       "  </tbody>\n",
       "</table>\n",
       "</div>"
      ],
      "text/plain": [
       "                                                text  true\n",
       "0  Donald Trump just couldn t wish all Americans ...     0\n",
       "1  House Intelligence Committee Chairman Devin Nu...     0\n",
       "2  On Friday, it was revealed that former Milwauk...     0\n",
       "3  On Christmas day, Donald Trump announced that ...     0\n",
       "4  Pope Francis used his annual Christmas Day mes...     0"
      ]
     },
     "execution_count": 72,
     "metadata": {},
     "output_type": "execute_result"
    }
   ],
   "source": [
    "cleaned_df.head()\n",
    "\n",
    "# current output shows before cleanse function"
   ]
  },
  {
   "cell_type": "code",
   "execution_count": 73,
   "id": "cf059242",
   "metadata": {},
   "outputs": [
    {
     "data": {
      "text/html": [
       "<div>\n",
       "<style scoped>\n",
       "    .dataframe tbody tr th:only-of-type {\n",
       "        vertical-align: middle;\n",
       "    }\n",
       "\n",
       "    .dataframe tbody tr th {\n",
       "        vertical-align: top;\n",
       "    }\n",
       "\n",
       "    .dataframe thead th {\n",
       "        text-align: right;\n",
       "    }\n",
       "</style>\n",
       "<table border=\"1\" class=\"dataframe\">\n",
       "  <thead>\n",
       "    <tr style=\"text-align: right;\">\n",
       "      <th></th>\n",
       "      <th>text</th>\n",
       "      <th>true</th>\n",
       "    </tr>\n",
       "  </thead>\n",
       "  <tbody>\n",
       "    <tr>\n",
       "      <th>38632</th>\n",
       "      <td>BUENOS  - Argentina s main labor unions took t...</td>\n",
       "      <td>1</td>\n",
       "    </tr>\n",
       "    <tr>\n",
       "      <th>38633</th>\n",
       "      <td>ON BOARD A U.S. MILITARY  - The U.S. Air Force...</td>\n",
       "      <td>1</td>\n",
       "    </tr>\n",
       "    <tr>\n",
       "      <th>38634</th>\n",
       "      <td>- The United States suggested on Tuesday it c...</td>\n",
       "      <td>1</td>\n",
       "    </tr>\n",
       "    <tr>\n",
       "      <th>38635</th>\n",
       "      <td>- The United States has decided to deny Egypt...</td>\n",
       "      <td>1</td>\n",
       "    </tr>\n",
       "    <tr>\n",
       "      <th>38636</th>\n",
       "      <td>- Outlining a new strategy for the war in Afg...</td>\n",
       "      <td>1</td>\n",
       "    </tr>\n",
       "    <tr>\n",
       "      <th>38637</th>\n",
       "      <td>- North Korea and the United States clashed a...</td>\n",
       "      <td>1</td>\n",
       "    </tr>\n",
       "    <tr>\n",
       "      <th>38638</th>\n",
       "      <td>SAO  - Cesar Mata Pires, the owner and co-foun...</td>\n",
       "      <td>1</td>\n",
       "    </tr>\n",
       "    <tr>\n",
       "      <th>38639</th>\n",
       "      <td>- North Korea and the United States accused e...</td>\n",
       "      <td>1</td>\n",
       "    </tr>\n",
       "    <tr>\n",
       "      <th>38640</th>\n",
       "      <td>- Danish police said on Tuesday the size of a...</td>\n",
       "      <td>1</td>\n",
       "    </tr>\n",
       "    <tr>\n",
       "      <th>38641</th>\n",
       "      <td>UNITED  - Two North Korean shipments to a Syri...</td>\n",
       "      <td>1</td>\n",
       "    </tr>\n",
       "    <tr>\n",
       "      <th>38642</th>\n",
       "      <td>- NATO allies on Tuesday welcomed President D...</td>\n",
       "      <td>1</td>\n",
       "    </tr>\n",
       "    <tr>\n",
       "      <th>38643</th>\n",
       "      <td>- LexisNexis, a provider of legal, regulatory...</td>\n",
       "      <td>1</td>\n",
       "    </tr>\n",
       "    <tr>\n",
       "      <th>38644</th>\n",
       "      <td>- In the shadow of disused Soviet-era factori...</td>\n",
       "      <td>1</td>\n",
       "    </tr>\n",
       "    <tr>\n",
       "      <th>38645</th>\n",
       "      <td>- Vatican Secretary of State Cardinal Pietro ...</td>\n",
       "      <td>1</td>\n",
       "    </tr>\n",
       "    <tr>\n",
       "      <th>38646</th>\n",
       "      <td>- Indonesia will buy 11 Sukhoi fighter jets w...</td>\n",
       "      <td>1</td>\n",
       "    </tr>\n",
       "  </tbody>\n",
       "</table>\n",
       "</div>"
      ],
      "text/plain": [
       "                                                    text  true\n",
       "38632  BUENOS  - Argentina s main labor unions took t...     1\n",
       "38633  ON BOARD A U.S. MILITARY  - The U.S. Air Force...     1\n",
       "38634   - The United States suggested on Tuesday it c...     1\n",
       "38635   - The United States has decided to deny Egypt...     1\n",
       "38636   - Outlining a new strategy for the war in Afg...     1\n",
       "38637   - North Korea and the United States clashed a...     1\n",
       "38638  SAO  - Cesar Mata Pires, the owner and co-foun...     1\n",
       "38639   - North Korea and the United States accused e...     1\n",
       "38640   - Danish police said on Tuesday the size of a...     1\n",
       "38641  UNITED  - Two North Korean shipments to a Syri...     1\n",
       "38642   - NATO allies on Tuesday welcomed President D...     1\n",
       "38643   - LexisNexis, a provider of legal, regulatory...     1\n",
       "38644   - In the shadow of disused Soviet-era factori...     1\n",
       "38645   - Vatican Secretary of State Cardinal Pietro ...     1\n",
       "38646   - Indonesia will buy 11 Sukhoi fighter jets w...     1"
      ]
     },
     "execution_count": 73,
     "metadata": {},
     "output_type": "execute_result"
    }
   ],
   "source": [
    "cleaned_df.tail(15)\n",
    "\n",
    "#current output is before cleanse function"
   ]
  },
  {
   "cell_type": "markdown",
   "id": "5b6c2833",
   "metadata": {},
   "source": [
    "# Haven't tested any function post this due to time. will confirm function "
   ]
  },
  {
   "cell_type": "markdown",
   "id": "e13b2209",
   "metadata": {},
   "source": [
    "#### Let's make a new wordcloud using the cleaned data "
   ]
  },
  {
   "cell_type": "code",
   "execution_count": null,
   "id": "1d68c7a1",
   "metadata": {},
   "outputs": [],
   "source": [
    "# STOPWORDS =set(nltk.corpus.stopwords.words(\"english\")).generate(text)\n",
    "\n",
    "plt.figure(figsize = (10,6))\n",
    "wc = WordCloud(width = 440, \n",
    "               height = 200, \n",
    "               stopwords =set(nltk.corpus.stopwords.words(\"english\")).generate(\" \".join(cleaned_df['text']))\n",
    "plt.imshow(wc, interpolation = 'bilinear')"
   ]
  },
  {
   "cell_type": "markdown",
   "id": "51e3e4d4",
   "metadata": {},
   "source": [
    "### N-Gram Analysis\n",
    "\n",
    "#### Let's see the popular words and word combinations in the text articles \n",
    "#### N-grams are sequences of words or symbols. n = number of sequences \n",
    "#### 1 sequence = unigram. 2 sequences = bigram, 3 sequences = trigram\n",
    "#### unigram = most frequent word. bigram = most frequent pair of words... \n",
    "\n"
   ]
  },
  {
   "cell_type": "code",
   "execution_count": null,
   "id": "ba5357c3",
   "metadata": {},
   "outputs": [],
   "source": [
    "# text used is from cleaned data. \n",
    "# copy text, then declare string so we can use it in function \n",
    "\n",
    "texts = ' '.join(cleaned_df)\n",
    "string = texts.split(\" \")"
   ]
  },
  {
   "cell_type": "code",
   "execution_count": null,
   "id": "8872c1b0",
   "metadata": {},
   "outputs": [],
   "source": [
    "# string = string dtype. i = num of variables who's sequence we want\n",
    "# declare n-gram as df from nltk.ngram() and group by highest count \n",
    "# limited to 20 top results \n",
    "# rename df columns to plot diagram \n",
    "\n",
    "def draw_n-gram(string, i): \n",
    "    n_gram = (pd.Series(nltk.ngrams(string, i)).value_counts())[:20]\n",
    "    n_gram_df = pd.DataFrame(n_gram)\n",
    "    n_gram_df = n_gram_df.rest_index()\n",
    "    n_gram_df = g_gram_df.rename(columns={'index':'word',0: 'count'})\n",
    "    \n",
    "    print(n_gram_df.head())\n",
    "    \n",
    "    plt.figure(figsize(15,8))\n",
    "    return sns.barplot(x='count', y='word',\n",
    "                      data=n_gram_df, pallete='coolwarm')\n"
   ]
  },
  {
   "cell_type": "code",
   "execution_count": null,
   "id": "62b5154e",
   "metadata": {},
   "outputs": [],
   "source": [
    "# let's call the unigram analysis function we've created \n",
    "# the most popular words \n",
    "draw_n_gram(string, 1)"
   ]
  },
  {
   "cell_type": "code",
   "execution_count": null,
   "id": "46a49e39",
   "metadata": {},
   "outputs": [],
   "source": [
    "# the most common pair of words \n",
    "\n",
    "draw_n_gram(string, 2)"
   ]
  },
  {
   "cell_type": "code",
   "execution_count": null,
   "id": "b8287acc",
   "metadata": {},
   "outputs": [],
   "source": [
    "# the most common triage of words \n",
    "\n",
    "draw_n_gram(string, 3)"
   ]
  },
  {
   "cell_type": "markdown",
   "id": "d5bda447",
   "metadata": {},
   "source": [
    "#### Save cleaned DF "
   ]
  },
  {
   "cell_type": "code",
   "execution_count": null,
   "id": "57dd0502",
   "metadata": {},
   "outputs": [],
   "source": [
    "final_df = cleaned_df[['text','true']].copy()\n",
    "final_df.to_csv('fake_real_news_dataset.csv', index=False)\n",
    "final_df.head()"
   ]
  },
  {
   "cell_type": "markdown",
   "id": "f9aeadcd",
   "metadata": {},
   "source": [
    "## Group to do list:\n",
    "* Sentiment analysis (Princess & Nicola)\n",
    "* ML and Modelling (Rose, Janka & Victoria)\n",
    "* Create Presentations (Nicola) \n",
    "* Write Project Report \n"
   ]
  },
  {
   "cell_type": "code",
   "execution_count": null,
   "id": "03afd4b8",
   "metadata": {},
   "outputs": [],
   "source": []
  }
 ],
 "metadata": {
  "kernelspec": {
   "display_name": "Python 3 (ipykernel)",
   "language": "python",
   "name": "python3"
  },
  "language_info": {
   "codemirror_mode": {
    "name": "ipython",
    "version": 3
   },
   "file_extension": ".py",
   "mimetype": "text/x-python",
   "name": "python",
   "nbconvert_exporter": "python",
   "pygments_lexer": "ipython3",
   "version": "3.9.7"
  }
 },
 "nbformat": 4,
 "nbformat_minor": 5
}
